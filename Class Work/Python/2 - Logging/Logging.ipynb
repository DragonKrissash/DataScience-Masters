{
 "cells": [
  {
   "cell_type": "code",
   "execution_count": 1,
   "id": "ac4896cf-5fb5-412c-aa04-9aef36d191c7",
   "metadata": {
    "tags": []
   },
   "outputs": [],
   "source": [
    "import logging"
   ]
  },
  {
   "cell_type": "code",
   "execution_count": 2,
   "id": "6fe4043c-056d-4bea-8f94-8b5cdef3e549",
   "metadata": {
    "tags": []
   },
   "outputs": [],
   "source": [
    "logging.basicConfig(filename='test.log',level=logging.INFO)"
   ]
  },
  {
   "cell_type": "code",
   "execution_count": 3,
   "id": "9110048c-a593-4fd9-897c-53e07cd81cc6",
   "metadata": {
    "tags": []
   },
   "outputs": [],
   "source": [
    "logging.info('log this line of execution')"
   ]
  },
  {
   "cell_type": "code",
   "execution_count": 6,
   "id": "9b5cb8b7-9eab-4bc5-9817-d7e1e05ba55b",
   "metadata": {
    "tags": []
   },
   "outputs": [],
   "source": [
    "logging.info('This is my print2')"
   ]
  },
  {
   "cell_type": "code",
   "execution_count": 15,
   "id": "29d7c24b-6d07-452e-905f-965d5bf8bea1",
   "metadata": {
    "tags": []
   },
   "outputs": [],
   "source": [
    "logging.warning('this is my warning')"
   ]
  },
  {
   "cell_type": "code",
   "execution_count": 16,
   "id": "0f5a4af9-8986-413b-983e-9a86a11254e8",
   "metadata": {
    "tags": []
   },
   "outputs": [],
   "source": [
    "logging.shutdown()"
   ]
  },
  {
   "cell_type": "code",
   "execution_count": 2,
   "id": "40d7ad77-605c-47b0-a41f-8d1c0e5cad86",
   "metadata": {
    "tags": []
   },
   "outputs": [],
   "source": [
    "logging.basicConfig(filename='test1.log',level=logging.DEBUG,format='%(asctime)s %(message)s')"
   ]
  },
  {
   "cell_type": "code",
   "execution_count": 3,
   "id": "8d386b7b-4062-47ff-bf7a-ecb7233b3a88",
   "metadata": {
    "tags": []
   },
   "outputs": [],
   "source": [
    "logging.info('This is my info logging')\n",
    "logging.error('This is my error message')\n",
    "logging.critical('This is my critical message')"
   ]
  },
  {
   "cell_type": "code",
   "execution_count": 8,
   "id": "680883dd-4bcf-41d3-8915-4704ed34f52f",
   "metadata": {
    "tags": []
   },
   "outputs": [],
   "source": [
    "logging.shutdown()"
   ]
  },
  {
   "cell_type": "code",
   "execution_count": 2,
   "id": "64e18b2b-6d83-45da-a3d9-56b49fcc095e",
   "metadata": {
    "tags": []
   },
   "outputs": [],
   "source": [
    "logging.basicConfig(filename='test3.log',level=logging.DEBUG,format='%(asctime)s %(name)s %(levelname)s %(message)s')"
   ]
  },
  {
   "cell_type": "code",
   "execution_count": 3,
   "id": "cc04c773-4187-40a8-bc72-f348f6288f07",
   "metadata": {
    "tags": []
   },
   "outputs": [],
   "source": [
    "logging.info('This is my info logging')\n",
    "logging.error('This is my error message')\n",
    "logging.critical('This is my critical message')"
   ]
  },
  {
   "cell_type": "code",
   "execution_count": 4,
   "id": "05587c38-bbd6-4c07-b84e-dd757ce0d82a",
   "metadata": {
    "tags": []
   },
   "outputs": [],
   "source": [
    "l=[1,2,3,34,4,[2,3,4],'sudh','kumar']"
   ]
  },
  {
   "cell_type": "code",
   "execution_count": 9,
   "id": "741e7843-e1a9-4f62-8a3d-3fccf979c660",
   "metadata": {
    "tags": []
   },
   "outputs": [],
   "source": [
    "l_int=[]\n",
    "l_str=[]\n",
    "for i in l:\n",
    "    logging.info('WE are in 1st loop '+str(l))\n",
    "    if type(i)==int:\n",
    "        logging.info('WE are pushing 1st list')\n",
    "        l_int.append(i)\n",
    "    elif type(i)==list:\n",
    "        logging.info(\"We are in 2nd loop\")\n",
    "        for j in i:\n",
    "            logging.info('We are pushing 2nd list')\n",
    "            l_int.append(j)\n",
    "    else:\n",
    "        l_str.append(i)\n",
    "        \n",
    "logging.info('My final result is: {l1} and {l2}'.format(l1=l_int,l2=l_str))"
   ]
  },
  {
   "cell_type": "code",
   "execution_count": 8,
   "id": "116b7ad2-9f9b-42c7-8acf-00f09778e608",
   "metadata": {
    "tags": []
   },
   "outputs": [
    {
     "data": {
      "text/plain": [
       "['sudh', 'kumar']"
      ]
     },
     "execution_count": 8,
     "metadata": {},
     "output_type": "execute_result"
    }
   ],
   "source": [
    "l_str"
   ]
  },
  {
   "cell_type": "code",
   "execution_count": null,
   "id": "cd19aee9-5d0a-4ab1-89ae-ace38cc09951",
   "metadata": {},
   "outputs": [],
   "source": []
  }
 ],
 "metadata": {
  "kernelspec": {
   "display_name": "Python 3 (ipykernel)",
   "language": "python",
   "name": "python3"
  },
  "language_info": {
   "codemirror_mode": {
    "name": "ipython",
    "version": 3
   },
   "file_extension": ".py",
   "mimetype": "text/x-python",
   "name": "python",
   "nbconvert_exporter": "python",
   "pygments_lexer": "ipython3",
   "version": "3.11.5"
  }
 },
 "nbformat": 4,
 "nbformat_minor": 5
}
