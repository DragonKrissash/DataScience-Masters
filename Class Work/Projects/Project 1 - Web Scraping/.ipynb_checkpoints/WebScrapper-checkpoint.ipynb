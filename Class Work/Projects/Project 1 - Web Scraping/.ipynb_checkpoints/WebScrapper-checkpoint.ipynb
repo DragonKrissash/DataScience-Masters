{
 "cells": [
  {
   "cell_type": "code",
   "execution_count": 8,
   "id": "79c884d5-2735-43d0-bd04-de3463a350da",
   "metadata": {
    "tags": []
   },
   "outputs": [],
   "source": [
    "import requests\n",
    "from bs4 import BeautifulSoup as bs\n",
    "from urllib.request import urlopen \n",
    "import logging"
   ]
  },
  {
   "cell_type": "code",
   "execution_count": 2,
   "id": "3b75897f-f2b4-4aaa-ad65-716f1ac69a14",
   "metadata": {
    "tags": []
   },
   "outputs": [],
   "source": [
    "flipkart_url='https://www.flipkart.com/search?q='+'iphone11'"
   ]
  },
  {
   "cell_type": "code",
   "execution_count": 3,
   "id": "f64c8b10-466c-480e-bfa1-be4baf131120",
   "metadata": {
    "tags": []
   },
   "outputs": [
    {
     "data": {
      "text/plain": [
       "'https://www.flipkart.com/search?q=iphone11'"
      ]
     },
     "execution_count": 3,
     "metadata": {},
     "output_type": "execute_result"
    }
   ],
   "source": [
    "flipkart_url"
   ]
  },
  {
   "cell_type": "code",
   "execution_count": 9,
   "id": "04873f64-df0d-4058-b113-819134a07222",
   "metadata": {
    "tags": []
   },
   "outputs": [],
   "source": [
    "urlClient=urlopen(flipkart_url)"
   ]
  },
  {
   "cell_type": "code",
   "execution_count": 10,
   "id": "d317ee64-9ab3-4ab2-adc6-23de52158344",
   "metadata": {
    "tags": []
   },
   "outputs": [
    {
     "data": {
      "text/plain": [
       "<http.client.HTTPResponse at 0x22dcc88d840>"
      ]
     },
     "execution_count": 10,
     "metadata": {},
     "output_type": "execute_result"
    }
   ],
   "source": [
    "urlClient"
   ]
  },
  {
   "cell_type": "code",
   "execution_count": 11,
   "id": "9eae953e-7ecc-469d-bd12-063ea706e697",
   "metadata": {
    "tags": []
   },
   "outputs": [],
   "source": [
    "urlhtml=urlClient.read()"
   ]
  },
  {
   "cell_type": "code",
   "execution_count": 14,
   "id": "b39255a5-9ad1-41b5-8987-535c61ed42e8",
   "metadata": {
    "tags": []
   },
   "outputs": [],
   "source": [
    "flipkart_html=bs(urlhtml,'html.parser')"
   ]
  },
  {
   "cell_type": "code",
   "execution_count": 50,
   "id": "fcade83c-2b84-49ea-9dc5-335781abc8db",
   "metadata": {
    "tags": []
   },
   "outputs": [],
   "source": [
    "product='https://www.flipkart.com/'+'apple-iphone-15-blue-128-gb/p/itmbf14ef54f645d?pid=MOBGTAGPAQNVFZZY&lid=LSTMOBGTAGPAQNVFZZYO7HQ2L&marketplace=FLIPKART&q=iphone&store=tyy%2F4io&spotlightTagId=BestsellerId_tyy%2F4io&srno=s_1_1&otracker=search&otracker1=search&fm=Search&iid=ea2c24c2-6885-4220-a76c-404cd1fe0886.MOBGTAGPAQNVFZZY.SEARCH&ppt=sp&ppn=sp&ssid=sj6c4qbxio0000001710488635349&qH=0b3f45b266a97d70'"
   ]
  },
  {
   "cell_type": "code",
   "execution_count": 51,
   "id": "898d8e8d-ce86-42d0-b712-581a40dafaf1",
   "metadata": {
    "tags": []
   },
   "outputs": [
    {
     "data": {
      "text/plain": [
       "'https://www.flipkart.com/apple-iphone-15-blue-128-gb/p/itmbf14ef54f645d?pid=MOBGTAGPAQNVFZZY&lid=LSTMOBGTAGPAQNVFZZYO7HQ2L&marketplace=FLIPKART&q=iphone&store=tyy%2F4io&spotlightTagId=BestsellerId_tyy%2F4io&srno=s_1_1&otracker=search&otracker1=search&fm=Search&iid=ea2c24c2-6885-4220-a76c-404cd1fe0886.MOBGTAGPAQNVFZZY.SEARCH&ppt=sp&ppn=sp&ssid=sj6c4qbxio0000001710488635349&qH=0b3f45b266a97d70'"
      ]
     },
     "execution_count": 51,
     "metadata": {},
     "output_type": "execute_result"
    }
   ],
   "source": [
    "product"
   ]
  },
  {
   "cell_type": "code",
   "execution_count": 27,
   "id": "f2e8c189-f28e-420b-b5ad-ec12f564ad27",
   "metadata": {
    "tags": []
   },
   "outputs": [],
   "source": [
    "bigbox=flipkart_html.findAll('div',{'class':'_1AtVbE col-12-12'})"
   ]
  },
  {
   "cell_type": "code",
   "execution_count": 28,
   "id": "a7d8368d-2617-4cf3-8342-5ea1f1d552c8",
   "metadata": {
    "tags": []
   },
   "outputs": [
    {
     "data": {
      "text/plain": [
       "30"
      ]
     },
     "execution_count": 28,
     "metadata": {},
     "output_type": "execute_result"
    }
   ],
   "source": [
    "len(bigbox)"
   ]
  },
  {
   "cell_type": "code",
   "execution_count": 46,
   "id": "2044f50c-69c2-4341-b3f7-79df11caaac1",
   "metadata": {
    "tags": []
   },
   "outputs": [
    {
     "data": {
      "text/plain": [
       "'https://www.flipkart.com/apple-iphone-11-pro-space-grey-256-gb/p/itmbecef22a95790?pid=MOBFKCTSWGYSAS9X&lid=LSTMOBFKCTSWGYSAS9X2RHASU&marketplace=FLIPKART&q=iphone11&store=tyy%2F4io&srno=s_1_24&otracker=search&fm=organic&iid=2d73d699-91cc-4579-bb13-2736f7cbcbe8.MOBFKCTSWGYSAS9X.SEARCH&ppt=None&ppn=None&ssid=9cg289db9s0000001710488869054&qH=d6db477051465f9a'"
      ]
     },
     "execution_count": 46,
     "metadata": {},
     "output_type": "execute_result"
    }
   ],
   "source": [
    "'https://www.flipkart.com'+bigbox[25].div.div.div.a['href']"
   ]
  },
  {
   "cell_type": "code",
   "execution_count": 49,
   "id": "66e5ff72-a2d6-4d25-b43b-57f4ef422d18",
   "metadata": {
    "tags": []
   },
   "outputs": [],
   "source": [
    "links=[]\n",
    "for i in range(2,26):\n",
    "    links.append('https://www.flipkart.com'+bigbox[i].div.div.div.a['href'])"
   ]
  },
  {
   "cell_type": "code",
   "execution_count": 95,
   "id": "ca4c1da5-166b-4426-80e7-81940e384b9e",
   "metadata": {
    "tags": []
   },
   "outputs": [
    {
     "data": {
      "text/plain": [
       "['https://www.flipkart.com/apple-iphone-11-purple-64-gb/p/itm2b8d03427ddac?pid=MOBFWQ6BTFFJKGKE&lid=LSTMOBFWQ6BTFFJKGKEPGQVOJ&marketplace=FLIPKART&q=iphone11&store=tyy%2F4io&srno=s_1_1&otracker=search&fm=organic&iid=2d73d699-91cc-4579-bb13-2736f7cbcbe8.MOBFWQ6BTFFJKGKE.SEARCH&ppt=None&ppn=None&ssid=9cg289db9s0000001710488869054&qH=d6db477051465f9a',\n",
       " 'https://www.flipkart.com/apple-iphone-11-green-64-gb/p/itm386a85013a3d1?pid=MOBFWQ6BHPMG29QM&lid=LSTMOBFWQ6BHPMG29QMKXJSSF&marketplace=FLIPKART&q=iphone11&store=tyy%2F4io&srno=s_1_2&otracker=search&fm=organic&iid=2d73d699-91cc-4579-bb13-2736f7cbcbe8.MOBFWQ6BHPMG29QM.SEARCH&ppt=None&ppn=None&ssid=9cg289db9s0000001710488869054&qH=d6db477051465f9a',\n",
       " 'https://www.flipkart.com/apple-iphone-11-yellow-128-gb/p/itm7030edc9e100e?pid=MOBFWQ6BWTSBJSHY&lid=LSTMOBFWQ6BWTSBJSHY0EKZKI&marketplace=FLIPKART&q=iphone11&store=tyy%2F4io&srno=s_1_3&otracker=search&fm=organic&iid=2d73d699-91cc-4579-bb13-2736f7cbcbe8.MOBFWQ6BWTSBJSHY.SEARCH&ppt=None&ppn=None&ssid=9cg289db9s0000001710488869054&qH=d6db477051465f9a',\n",
       " 'https://www.flipkart.com/apple-iphone-11-red-64-gb/p/itmc3935326f2feb?pid=MOBFWQ6BYYV3FCU7&lid=LSTMOBFWQ6BYYV3FCU7ZCY7Y9&marketplace=FLIPKART&q=iphone11&store=tyy%2F4io&srno=s_1_4&otracker=search&fm=organic&iid=2d73d699-91cc-4579-bb13-2736f7cbcbe8.MOBFWQ6BYYV3FCU7.SEARCH&ppt=None&ppn=None&ssid=9cg289db9s0000001710488869054&qH=d6db477051465f9a',\n",
       " 'https://www.flipkart.com/apple-iphone-11-purple-128-gb/p/itmb7ca0b05522ff?pid=MOBFWQ6BEHFXGXGB&lid=LSTMOBFWQ6BEHFXGXGBBI1U9D&marketplace=FLIPKART&q=iphone11&store=tyy%2F4io&srno=s_1_5&otracker=search&fm=organic&iid=2d73d699-91cc-4579-bb13-2736f7cbcbe8.MOBFWQ6BEHFXGXGB.SEARCH&ppt=None&ppn=None&ssid=9cg289db9s0000001710488869054&qH=d6db477051465f9a',\n",
       " 'https://www.flipkart.com/apple-iphone-11-red-128-gb/p/itm8d14bd0e33a1c?pid=MOBFWQ6BEZTNK59G&lid=LSTMOBFWQ6BEZTNK59G4PTPDM&marketplace=FLIPKART&q=iphone11&store=tyy%2F4io&srno=s_1_6&otracker=search&fm=organic&iid=2d73d699-91cc-4579-bb13-2736f7cbcbe8.MOBFWQ6BEZTNK59G.SEARCH&ppt=None&ppn=None&ssid=9cg289db9s0000001710488869054&qH=d6db477051465f9a',\n",
       " 'https://www.flipkart.com/apple-iphone-11-black-64-gb/p/itm4e5041ba101fd?pid=MOBFWQ6BXGJCEYNY&lid=LSTMOBFWQ6BXGJCEYNYIJLDFV&marketplace=FLIPKART&q=iphone11&store=tyy%2F4io&srno=s_1_7&otracker=search&fm=organic&iid=2d73d699-91cc-4579-bb13-2736f7cbcbe8.MOBFWQ6BXGJCEYNY.SEARCH&ppt=None&ppn=None&ssid=9cg289db9s0000001710488869054&qH=d6db477051465f9a',\n",
       " 'https://www.flipkart.com/apple-iphone-11-black-128-gb/p/itm8244e8d955aba?pid=MOBFWQ6BKRYBP5X8&lid=LSTMOBFWQ6BKRYBP5X8X0KYUG&marketplace=FLIPKART&q=iphone11&store=tyy%2F4io&srno=s_1_8&otracker=search&fm=organic&iid=2d73d699-91cc-4579-bb13-2736f7cbcbe8.MOBFWQ6BKRYBP5X8.SEARCH&ppt=None&ppn=None&ssid=9cg289db9s0000001710488869054&qH=d6db477051465f9a',\n",
       " 'https://www.flipkart.com/apple-iphone-11-white-64-gb/p/itmfc6a7091eb20b?pid=MOBFWQ6BVWVEH3XE&lid=LSTMOBFWQ6BVWVEH3XEMXQMLO&marketplace=FLIPKART&q=iphone11&store=tyy%2F4io&srno=s_1_9&otracker=search&fm=organic&iid=2d73d699-91cc-4579-bb13-2736f7cbcbe8.MOBFWQ6BVWVEH3XE.SEARCH&ppt=None&ppn=None&ssid=9cg289db9s0000001710488869054&qH=d6db477051465f9a',\n",
       " 'https://www.flipkart.com/apple-iphone-11-white-128-gb/p/itme32df47ea6742?pid=MOBFWQ6B7KKRXDDS&lid=LSTMOBFWQ6B7KKRXDDSUPVRTR&marketplace=FLIPKART&q=iphone11&store=tyy%2F4io&srno=s_1_10&otracker=search&fm=organic&iid=2d73d699-91cc-4579-bb13-2736f7cbcbe8.MOBFWQ6B7KKRXDDS.SEARCH&ppt=None&ppn=None&ssid=9cg289db9s0000001710488869054&qH=d6db477051465f9a',\n",
       " 'https://www.flipkart.com/apple-iphone-11-green-128-gb/p/itm97529bbf640ca?pid=MOBFWQ6BHBKMH4BF&lid=LSTMOBFWQ6BHBKMH4BFANHIMU&marketplace=FLIPKART&q=iphone11&store=tyy%2F4io&srno=s_1_11&otracker=search&fm=organic&iid=2d73d699-91cc-4579-bb13-2736f7cbcbe8.MOBFWQ6BHBKMH4BF.SEARCH&ppt=None&ppn=None&ssid=9cg289db9s0000001710488869054&qH=d6db477051465f9a',\n",
       " 'https://www.flipkart.com/apple-iphone-11-pro-max-midnight-green-64-gb/p/itmab1763b5ca244?pid=MOBFKCTSRYPAQNYT&lid=LSTMOBFKCTSRYPAQNYTHDWEGY&marketplace=FLIPKART&q=iphone11&store=tyy%2F4io&srno=s_1_12&otracker=search&fm=organic&iid=2d73d699-91cc-4579-bb13-2736f7cbcbe8.MOBFKCTSRYPAQNYT.SEARCH&ppt=None&ppn=None&ssid=9cg289db9s0000001710488869054&qH=d6db477051465f9a',\n",
       " 'https://www.flipkart.com/apple-iphone-11-pro-gold-512-gb/p/itm29ba3b4eeb4d5?pid=MOBFKCTS7CGXBRYE&lid=LSTMOBFKCTS7CGXBRYEVDPFSF&marketplace=FLIPKART&q=iphone11&store=tyy%2F4io&srno=s_1_13&otracker=search&fm=organic&iid=2d73d699-91cc-4579-bb13-2736f7cbcbe8.MOBFKCTS7CGXBRYE.SEARCH&ppt=None&ppn=None&ssid=9cg289db9s0000001710488869054&qH=d6db477051465f9a',\n",
       " 'https://www.flipkart.com/apple-iphone-11-pro-space-grey-512-gb/p/itmcd1f0ddbf1c21?pid=MOBFKCTSRTHRQTFT&lid=LSTMOBFKCTSRTHRQTFTSIZYYS&marketplace=FLIPKART&q=iphone11&store=tyy%2F4io&srno=s_1_14&otracker=search&fm=organic&iid=2d73d699-91cc-4579-bb13-2736f7cbcbe8.MOBFKCTSRTHRQTFT.SEARCH&ppt=None&ppn=None&ssid=9cg289db9s0000001710488869054&qH=d6db477051465f9a',\n",
       " 'https://www.flipkart.com/apple-iphone-11-pro-max-silver-512-gb/p/itmd4aeaf1585645?pid=MOBFKCTSGQWSAKDG&lid=LSTMOBFKCTSGQWSAKDGBKDFSB&marketplace=FLIPKART&q=iphone11&store=tyy%2F4io&srno=s_1_15&otracker=search&fm=organic&iid=2d73d699-91cc-4579-bb13-2736f7cbcbe8.MOBFKCTSGQWSAKDG.SEARCH&ppt=None&ppn=None&ssid=9cg289db9s0000001710488869054&qH=d6db477051465f9a',\n",
       " 'https://www.flipkart.com/apple-iphone-11-pro-midnight-green-512-gb/p/itm0bdd954387ca9?pid=MOBFKCTSSJCWYGCC&lid=LSTMOBFKCTSSJCWYGCCVRNYWA&marketplace=FLIPKART&q=iphone11&store=tyy%2F4io&srno=s_1_16&otracker=search&fm=organic&iid=2d73d699-91cc-4579-bb13-2736f7cbcbe8.MOBFKCTSSJCWYGCC.SEARCH&ppt=None&ppn=None&ssid=9cg289db9s0000001710488869054&qH=d6db477051465f9a',\n",
       " 'https://www.flipkart.com/apple-iphone-11-pro-silver-512-gb/p/itmb5a9e1ed61050?pid=MOBFKCTSGSPD57DD&lid=LSTMOBFKCTSGSPD57DDNXGVJ7&marketplace=FLIPKART&q=iphone11&store=tyy%2F4io&srno=s_1_17&otracker=search&fm=organic&iid=2d73d699-91cc-4579-bb13-2736f7cbcbe8.MOBFKCTSGSPD57DD.SEARCH&ppt=None&ppn=None&ssid=9cg289db9s0000001710488869054&qH=d6db477051465f9a',\n",
       " 'https://www.flipkart.com/apple-iphone-11-yellow-64-gb/p/itm39b1a0ba9ddcb?pid=MOBFWQ6BWGX9VRFS&lid=LSTMOBFWQ6BWGX9VRFSRCZZAI&marketplace=FLIPKART&q=iphone11&store=tyy%2F4io&srno=s_1_18&otracker=search&fm=organic&iid=2d73d699-91cc-4579-bb13-2736f7cbcbe8.MOBFWQ6BWGX9VRFS.SEARCH&ppt=None&ppn=None&ssid=9cg289db9s0000001710488869054&qH=d6db477051465f9a',\n",
       " 'https://www.flipkart.com/apple-iphone-11-pro-max-midnight-green-256-gb/p/itm68e0db18f9ecc?pid=MOBFKCTSCAAKGQV7&lid=LSTMOBFKCTSCAAKGQV7U5QXV6&marketplace=FLIPKART&q=iphone11&store=tyy%2F4io&srno=s_1_19&otracker=search&fm=organic&iid=2d73d699-91cc-4579-bb13-2736f7cbcbe8.MOBFKCTSCAAKGQV7.SEARCH&ppt=None&ppn=None&ssid=9cg289db9s0000001710488869054&qH=d6db477051465f9a',\n",
       " 'https://www.flipkart.com/apple-iphone-11-pro-max-silver-256-gb/p/itm90a95d4c7bfb4?pid=MOBFKCTSVH4EWXBV&lid=LSTMOBFKCTSVH4EWXBVDOFYMD&marketplace=FLIPKART&q=iphone11&store=tyy%2F4io&srno=s_1_20&otracker=search&fm=organic&iid=2d73d699-91cc-4579-bb13-2736f7cbcbe8.MOBFKCTSVH4EWXBV.SEARCH&ppt=None&ppn=None&ssid=9cg289db9s0000001710488869054&qH=d6db477051465f9a',\n",
       " 'https://www.flipkart.com/apple-iphone-11-pro-max-space-grey-256-gb/p/itm2b63a650e32f7?pid=MOBFKCTSSXTRZZJD&lid=LSTMOBFKCTSSXTRZZJDH1HTO4&marketplace=FLIPKART&q=iphone11&store=tyy%2F4io&srno=s_1_21&otracker=search&fm=organic&iid=2d73d699-91cc-4579-bb13-2736f7cbcbe8.MOBFKCTSSXTRZZJD.SEARCH&ppt=None&ppn=None&ssid=9cg289db9s0000001710488869054&qH=d6db477051465f9a',\n",
       " 'https://www.flipkart.com/apple-iphone-11-pro-max-silver-64-gb/p/itm9cd54210a8047?pid=MOBFKCTSTETGYFKZ&lid=LSTMOBFKCTSTETGYFKZZHWDT6&marketplace=FLIPKART&q=iphone11&store=tyy%2F4io&srno=s_1_22&otracker=search&fm=organic&iid=2d73d699-91cc-4579-bb13-2736f7cbcbe8.MOBFKCTSTETGYFKZ.SEARCH&ppt=None&ppn=None&ssid=9cg289db9s0000001710488869054&qH=d6db477051465f9a',\n",
       " 'https://www.flipkart.com/apple-iphone-11-pro-silver-64-gb/p/itmaf0c50869f4e6?pid=MOBFKCTSZJCKYJ55&lid=LSTMOBFKCTSZJCKYJ55LWEH67&marketplace=FLIPKART&q=iphone11&store=tyy%2F4io&srno=s_1_23&otracker=search&fm=organic&iid=2d73d699-91cc-4579-bb13-2736f7cbcbe8.MOBFKCTSZJCKYJ55.SEARCH&ppt=None&ppn=None&ssid=9cg289db9s0000001710488869054&qH=d6db477051465f9a',\n",
       " 'https://www.flipkart.com/apple-iphone-11-pro-space-grey-256-gb/p/itmbecef22a95790?pid=MOBFKCTSWGYSAS9X&lid=LSTMOBFKCTSWGYSAS9X2RHASU&marketplace=FLIPKART&q=iphone11&store=tyy%2F4io&srno=s_1_24&otracker=search&fm=organic&iid=2d73d699-91cc-4579-bb13-2736f7cbcbe8.MOBFKCTSWGYSAS9X.SEARCH&ppt=None&ppn=None&ssid=9cg289db9s0000001710488869054&qH=d6db477051465f9a']"
      ]
     },
     "execution_count": 95,
     "metadata": {},
     "output_type": "execute_result"
    }
   ],
   "source": [
    "links"
   ]
  },
  {
   "cell_type": "code",
   "execution_count": 59,
   "id": "86839eb9-fc9f-4783-89bb-10696438c414",
   "metadata": {
    "tags": []
   },
   "outputs": [],
   "source": [
    "productclient=urlopen(product)"
   ]
  },
  {
   "cell_type": "code",
   "execution_count": 60,
   "id": "ad0d7561-02cb-4676-9ee0-033ab710a00d",
   "metadata": {
    "tags": []
   },
   "outputs": [],
   "source": [
    "product_html=bs(productclient.read(),'html.parser')"
   ]
  },
  {
   "cell_type": "code",
   "execution_count": 64,
   "id": "344d72fc-8cdf-4f29-b308-411b2fbe212d",
   "metadata": {
    "tags": []
   },
   "outputs": [],
   "source": [
    "smallbox=product_html.findAll('div',{'class':'_16PBlm'})"
   ]
  },
  {
   "cell_type": "code",
   "execution_count": 82,
   "id": "3c9a046e-229c-47d1-aeaf-7600ca26c083",
   "metadata": {
    "tags": []
   },
   "outputs": [
    {
     "data": {
      "text/plain": [
       "11"
      ]
     },
     "execution_count": 82,
     "metadata": {},
     "output_type": "execute_result"
    }
   ],
   "source": [
    "len(smallbox)"
   ]
  },
  {
   "cell_type": "code",
   "execution_count": 93,
   "id": "97031bdb-ccd5-4ee0-a20c-83b4bc2c7365",
   "metadata": {
    "tags": []
   },
   "outputs": [],
   "source": [
    "review=[]\n",
    "for i in range(0,10):\n",
    "    data={'high':smallbox[i].div.div.div.p.text,\n",
    "          'review':smallbox[i].div.div.find('div',{'class':'t-ZTKy'}).div.div.text}\n",
    "    review.append(data)"
   ]
  },
  {
   "cell_type": "code",
   "execution_count": 86,
   "id": "b86f3b8c-6f73-42b6-b92f-60324ef0c678",
   "metadata": {
    "tags": []
   },
   "outputs": [
    {
     "data": {
      "text/plain": [
       "'Mind-blowing purchase'"
      ]
     },
     "execution_count": 86,
     "metadata": {},
     "output_type": "execute_result"
    }
   ],
   "source": [
    "smallbox[9].div.div.div.p.text"
   ]
  },
  {
   "cell_type": "code",
   "execution_count": 89,
   "id": "6f71ea7c-74f7-43a3-a61a-2bd8170232fc",
   "metadata": {
    "tags": []
   },
   "outputs": [
    {
     "data": {
      "text/plain": [
       "'No doubt this smartphone an art.'"
      ]
     },
     "execution_count": 89,
     "metadata": {},
     "output_type": "execute_result"
    }
   ],
   "source": [
    "smallbox[9].div.div.find('div',{'class':'t-ZTKy'}).div.div.text"
   ]
  },
  {
   "cell_type": "code",
   "execution_count": 94,
   "id": "05c4ef21-b7fb-46eb-aedd-057e7fafaee9",
   "metadata": {
    "tags": []
   },
   "outputs": [
    {
     "data": {
      "text/plain": [
       "[{'high': 'Just wow!', 'review': 'Camera Quality Is Improved Loving It'},\n",
       " {'high': 'Good choice', 'review': 'Very nice'},\n",
       " {'high': 'Mind-blowing purchase', 'review': 'High quality camera😍'},\n",
       " {'high': 'Worth the money',\n",
       "  'review': 'Best mobile phoneCamera quality is very nice Battery backup is very good Sound quality is amazing.'},\n",
       " {'high': 'Classy product', 'review': 'Nice ❤️'},\n",
       " {'high': 'Highly recommended',\n",
       "  'review': 'I love this phone. The camera is amazing: its I am so happy'},\n",
       " {'high': 'Awesome',\n",
       "  'review': 'Switch from OnePlus to iPhone I am stunned with camera performance. Everything is perfect on  iPhone 15.'},\n",
       " {'high': 'Brilliant',\n",
       "  'review': 'Totally happy!Camera 5Battery 5 Display 5Design 5'},\n",
       " {'high': 'Really Nice', 'review': 'Awesome camra quality superb camra 😊'},\n",
       " {'high': 'Mind-blowing purchase',\n",
       "  'review': 'No doubt this smartphone an art.'}]"
      ]
     },
     "execution_count": 94,
     "metadata": {},
     "output_type": "execute_result"
    }
   ],
   "source": [
    "review"
   ]
  },
  {
   "cell_type": "code",
   "execution_count": 96,
   "id": "5ca438a5-1c19-4ea2-875b-2e2ded98f2a7",
   "metadata": {
    "tags": []
   },
   "outputs": [],
   "source": [
    "product_reviews=[]\n",
    "for link in links:\n",
    "    productclient=urlopen(link)\n",
    "    product_html=bs(productclient.read(),'html.parser')\n",
    "    smallbox=product_html.findAll('div',{'class':'_16PBlm'})\n",
    "    review=[]\n",
    "    for i in range(0,10):\n",
    "        data={'high':smallbox[i].div.div.div.p.text,\n",
    "              'review':smallbox[i].div.div.find('div',{'class':'t-ZTKy'}).div.div.text}\n",
    "        review.append(data)\n",
    "    product_reviews.append(review)"
   ]
  },
  {
   "cell_type": "code",
   "execution_count": 97,
   "id": "b9bb5761-67e6-46cc-b989-95f4d464e261",
   "metadata": {
    "tags": []
   },
   "outputs": [
    {
     "data": {
      "text/plain": [
       "[[{'high': 'Worth every penny',\n",
       "   'review': 'Feeling awesome after getting the delivery of my phone. Dual speakers makes the sound quality very loud. Amazing!!'},\n",
       "  {'high': 'Best in the market!', 'review': 'Good Camera'},\n",
       "  {'high': 'Terrific', 'review': 'Very very good'},\n",
       "  {'high': 'Classy product',\n",
       "   'review': 'Camera is awesomeBest battery backupA performer 👌🏻It will be a real value for money if they provide charger and earphone inbox!'},\n",
       "  {'high': 'Terrific purchase', 'review': 'Value for money 😍'},\n",
       "  {'high': 'Brilliant', 'review': 'very good camera quality'},\n",
       "  {'high': 'Perfect product!', 'review': 'Photos super'},\n",
       "  {'high': 'Just wow!', 'review': 'Perfect Product!!'},\n",
       "  {'high': 'Wonderful', 'review': 'This is amazing at all'},\n",
       "  {'high': 'Fabulous!', 'review': 'Super🔥 and good performance 👌❤️'}],\n",
       " [{'high': 'Worth every penny',\n",
       "   'review': 'Feeling awesome after getting the delivery of my phone. Dual speakers makes the sound quality very loud. Amazing!!'},\n",
       "  {'high': 'Best in the market!', 'review': 'Good Camera'},\n",
       "  {'high': 'Terrific', 'review': 'Very very good'},\n",
       "  {'high': 'Classy product',\n",
       "   'review': 'Camera is awesomeBest battery backupA performer 👌🏻It will be a real value for money if they provide charger and earphone inbox!'},\n",
       "  {'high': 'Terrific purchase', 'review': 'Value for money 😍'},\n",
       "  {'high': 'Brilliant', 'review': 'very good camera quality'},\n",
       "  {'high': 'Perfect product!', 'review': 'Photos super'},\n",
       "  {'high': 'Just wow!', 'review': 'Perfect Product!!'},\n",
       "  {'high': 'Wonderful', 'review': 'This is amazing at all'},\n",
       "  {'high': 'Fabulous!', 'review': 'Super🔥 and good performance 👌❤️'}],\n",
       " [{'high': 'Worth every penny',\n",
       "   'review': 'Feeling awesome after getting the delivery of my phone. Dual speakers makes the sound quality very loud. Amazing!!'},\n",
       "  {'high': 'Best in the market!', 'review': 'Good Camera'},\n",
       "  {'high': 'Terrific', 'review': 'Very very good'},\n",
       "  {'high': 'Classy product',\n",
       "   'review': 'Camera is awesomeBest battery backupA performer 👌🏻It will be a real value for money if they provide charger and earphone inbox!'},\n",
       "  {'high': 'Terrific purchase', 'review': 'Value for money 😍'},\n",
       "  {'high': 'Brilliant', 'review': 'very good camera quality'},\n",
       "  {'high': 'Perfect product!', 'review': 'Photos super'},\n",
       "  {'high': 'Just wow!', 'review': 'Perfect Product!!'},\n",
       "  {'high': 'Wonderful', 'review': 'This is amazing at all'},\n",
       "  {'high': 'Fabulous!', 'review': 'Super🔥 and good performance 👌❤️'}],\n",
       " [{'high': 'Worth every penny',\n",
       "   'review': 'Feeling awesome after getting the delivery of my phone. Dual speakers makes the sound quality very loud. Amazing!!'},\n",
       "  {'high': 'Best in the market!', 'review': 'Good Camera'},\n",
       "  {'high': 'Terrific', 'review': 'Very very good'},\n",
       "  {'high': 'Classy product',\n",
       "   'review': 'Camera is awesomeBest battery backupA performer 👌🏻It will be a real value for money if they provide charger and earphone inbox!'},\n",
       "  {'high': 'Terrific purchase', 'review': 'Value for money 😍'},\n",
       "  {'high': 'Brilliant', 'review': 'very good camera quality'},\n",
       "  {'high': 'Perfect product!', 'review': 'Photos super'},\n",
       "  {'high': 'Just wow!', 'review': 'Perfect Product!!'},\n",
       "  {'high': 'Wonderful', 'review': 'This is amazing at all'},\n",
       "  {'high': 'Fabulous!', 'review': 'Super🔥 and good performance 👌❤️'}],\n",
       " [{'high': 'Worth every penny',\n",
       "   'review': 'Feeling awesome after getting the delivery of my phone. Dual speakers makes the sound quality very loud. Amazing!!'},\n",
       "  {'high': 'Best in the market!', 'review': 'Good Camera'},\n",
       "  {'high': 'Terrific', 'review': 'Very very good'},\n",
       "  {'high': 'Classy product',\n",
       "   'review': 'Camera is awesomeBest battery backupA performer 👌🏻It will be a real value for money if they provide charger and earphone inbox!'},\n",
       "  {'high': 'Terrific purchase', 'review': 'Value for money 😍'},\n",
       "  {'high': 'Brilliant', 'review': 'very good camera quality'},\n",
       "  {'high': 'Perfect product!', 'review': 'Photos super'},\n",
       "  {'high': 'Just wow!', 'review': 'Perfect Product!!'},\n",
       "  {'high': 'Wonderful', 'review': 'This is amazing at all'},\n",
       "  {'high': 'Fabulous!', 'review': 'Super🔥 and good performance 👌❤️'}],\n",
       " [{'high': 'Worth every penny',\n",
       "   'review': 'Feeling awesome after getting the delivery of my phone. Dual speakers makes the sound quality very loud. Amazing!!'},\n",
       "  {'high': 'Best in the market!', 'review': 'Good Camera'},\n",
       "  {'high': 'Terrific', 'review': 'Very very good'},\n",
       "  {'high': 'Classy product',\n",
       "   'review': 'Camera is awesomeBest battery backupA performer 👌🏻It will be a real value for money if they provide charger and earphone inbox!'},\n",
       "  {'high': 'Just wow!', 'review': 'Perfect Product!!'},\n",
       "  {'high': 'Terrific purchase', 'review': 'Value for money 😍'},\n",
       "  {'high': 'Brilliant', 'review': 'very good camera quality'},\n",
       "  {'high': 'Perfect product!', 'review': 'Photos super'},\n",
       "  {'high': 'Wonderful', 'review': 'This is amazing at all'},\n",
       "  {'high': 'Fabulous!', 'review': 'Super🔥 and good performance 👌❤️'}],\n",
       " [{'high': 'Worth every penny',\n",
       "   'review': 'Feeling awesome after getting the delivery of my phone. Dual speakers makes the sound quality very loud. Amazing!!'},\n",
       "  {'high': 'Best in the market!', 'review': 'Good Camera'},\n",
       "  {'high': 'Terrific', 'review': 'Very very good'},\n",
       "  {'high': 'Classy product',\n",
       "   'review': 'Camera is awesomeBest battery backupA performer 👌🏻It will be a real value for money if they provide charger and earphone inbox!'},\n",
       "  {'high': 'Terrific purchase', 'review': 'Value for money 😍'},\n",
       "  {'high': 'Brilliant', 'review': 'very good camera quality'},\n",
       "  {'high': 'Perfect product!', 'review': 'Photos super'},\n",
       "  {'high': 'Just wow!', 'review': 'Perfect Product!!'},\n",
       "  {'high': 'Wonderful', 'review': 'This is amazing at all'},\n",
       "  {'high': 'Fabulous!', 'review': 'Super🔥 and good performance 👌❤️'}],\n",
       " [{'high': 'Worth every penny',\n",
       "   'review': 'Feeling awesome after getting the delivery of my phone. Dual speakers makes the sound quality very loud. Amazing!!'},\n",
       "  {'high': 'Best in the market!', 'review': 'Good Camera'},\n",
       "  {'high': 'Terrific', 'review': 'Very very good'},\n",
       "  {'high': 'Classy product',\n",
       "   'review': 'Camera is awesomeBest battery backupA performer 👌🏻It will be a real value for money if they provide charger and earphone inbox!'},\n",
       "  {'high': 'Terrific purchase', 'review': 'Value for money 😍'},\n",
       "  {'high': 'Brilliant', 'review': 'very good camera quality'},\n",
       "  {'high': 'Perfect product!', 'review': 'Photos super'},\n",
       "  {'high': 'Just wow!', 'review': 'Perfect Product!!'},\n",
       "  {'high': 'Wonderful', 'review': 'This is amazing at all'},\n",
       "  {'high': 'Fabulous!', 'review': 'Super🔥 and good performance 👌❤️'}],\n",
       " [{'high': 'Worth every penny',\n",
       "   'review': 'Feeling awesome after getting the delivery of my phone. Dual speakers makes the sound quality very loud. Amazing!!'},\n",
       "  {'high': 'Best in the market!', 'review': 'Good Camera'},\n",
       "  {'high': 'Terrific', 'review': 'Very very good'},\n",
       "  {'high': 'Classy product',\n",
       "   'review': 'Camera is awesomeBest battery backupA performer 👌🏻It will be a real value for money if they provide charger and earphone inbox!'},\n",
       "  {'high': 'Terrific purchase', 'review': 'Value for money 😍'},\n",
       "  {'high': 'Brilliant', 'review': 'very good camera quality'},\n",
       "  {'high': 'Perfect product!', 'review': 'Photos super'},\n",
       "  {'high': 'Just wow!', 'review': 'Perfect Product!!'},\n",
       "  {'high': 'Wonderful', 'review': 'This is amazing at all'},\n",
       "  {'high': 'Fabulous!', 'review': 'Super🔥 and good performance 👌❤️'}],\n",
       " [{'high': 'Worth every penny',\n",
       "   'review': 'Feeling awesome after getting the delivery of my phone. Dual speakers makes the sound quality very loud. Amazing!!'},\n",
       "  {'high': 'Best in the market!', 'review': 'Good Camera'},\n",
       "  {'high': 'Terrific', 'review': 'Very very good'},\n",
       "  {'high': 'Classy product',\n",
       "   'review': 'Camera is awesomeBest battery backupA performer 👌🏻It will be a real value for money if they provide charger and earphone inbox!'},\n",
       "  {'high': 'Terrific purchase', 'review': 'Value for money 😍'},\n",
       "  {'high': 'Brilliant', 'review': 'very good camera quality'},\n",
       "  {'high': 'Perfect product!', 'review': 'Photos super'},\n",
       "  {'high': 'Just wow!', 'review': 'Perfect Product!!'},\n",
       "  {'high': 'Wonderful', 'review': 'This is amazing at all'},\n",
       "  {'high': 'Fabulous!', 'review': 'Super🔥 and good performance 👌❤️'}],\n",
       " [{'high': 'Worth every penny',\n",
       "   'review': 'Feeling awesome after getting the delivery of my phone. Dual speakers makes the sound quality very loud. Amazing!!'},\n",
       "  {'high': 'Best in the market!', 'review': 'Good Camera'},\n",
       "  {'high': 'Terrific', 'review': 'Very very good'},\n",
       "  {'high': 'Classy product',\n",
       "   'review': 'Camera is awesomeBest battery backupA performer 👌🏻It will be a real value for money if they provide charger and earphone inbox!'},\n",
       "  {'high': 'Terrific purchase', 'review': 'Value for money 😍'},\n",
       "  {'high': 'Brilliant', 'review': 'very good camera quality'},\n",
       "  {'high': 'Perfect product!', 'review': 'Photos super'},\n",
       "  {'high': 'Just wow!', 'review': 'Perfect Product!!'},\n",
       "  {'high': 'Wonderful', 'review': 'This is amazing at all'},\n",
       "  {'high': 'Fabulous!', 'review': 'Super🔥 and good performance 👌❤️'}],\n",
       " [{'high': 'Highly recommended',\n",
       "   'review': 'Battery - more or less 2 daysCamera - can now perform very good in low light (night )Heating- no heating for 15+ daysCharging- Quick charger ( which now comes in box ) charges 1-80 in less than an hour. The next 20 requires next 25 mins or so.'},\n",
       "  {'high': 'Worth every penny',\n",
       "   'review': 'Just Awesome, For Night mode in camera no one can beat Iphone, performance super fast, portraits mono mode just ossm, Even in battery backup is now improved than previous iphone,  in the box ,apple gives Fast charger 👌🏻👌🏻👌🏻'},\n",
       "  {'high': 'Good quality product',\n",
       "   'review': \"impressively Nice......One of the greatest iPhone i ever used ....All was like Never before ...it's just Amazing ...Battery Life is too good ...2 Days with hevy usedCamera also like Apple Quality best ever\"},\n",
       "  {'high': 'Perfect product!',\n",
       "   'review': 'I had doubts about getting an iPhone from online stores/e-commerce, but bought this anyway on 24/10 and got it by 28/10. About the iPhone ,well there’s nothing new we could say about apple products- High standards,New iOS updates every year,built quality. In 11 pro max Camera, the new A13 bionic chip,Battery are the highlights. I was never worried about the phone or had any doubts about it’s performance. These are few shots that I’ve taken since I got this iPhone. It’s been  only 2 days so co...'},\n",
       "  {'high': 'Worth every penny',\n",
       "   'review': 'Great purchase, happily upgraded to iPhone 11 pro max and I’m quite satisfied with the performance of the phone :))'},\n",
       "  {'high': 'Must buy!',\n",
       "   'review': 'It’s a beast, what a device... in love with it'},\n",
       "  {'high': 'Terrific purchase', 'review': 'Nice very good phone'},\n",
       "  {'high': 'Must buy!',\n",
       "   'review': 'Camera and battery life s the best in this iPhone.. the os 13 very fluid .. one of the best products for Apple'},\n",
       "  {'high': 'Great product', 'review': 'The best phone from apple loving it!'},\n",
       "  {'high': 'Mind-blowing purchase',\n",
       "   'review': 'Superb Apple IPhones 11 pro max i love it. Faster performance, awesome camera. Battery life good.Apple for life'}],\n",
       " [{'high': 'Wonderful',\n",
       "   'review': 'I bought during the big billion sale. It’s worth every penny. First iOS user and overwhelmed. The photos are much better than my mirror less camera. If you got the budget, go for it..... Don’t think twice.'},\n",
       "  {'high': 'Worth every penny', 'review': 'Superb...'},\n",
       "  {'high': 'Fabulous!',\n",
       "   'review': 'Fast performance to previous iPhone xGood camera quality but the best part of night mode #killingI am already One-plus7Huge difference between in night mode                &iPhones 11 pro winsDisplay is also great in  #iPhone 11 proDisappointed —-You can’t be move your data android to iphone , Move to ios app not working in that case.iPhone change his USB type cable, You cant be charge your phone to power bank through this cable.... type c plug replaces USB plug'},\n",
       "  {'high': 'Just wow!', 'review': 'Great'},\n",
       "  {'high': 'Excellent',\n",
       "   'review': 'very good phone no complains yetoutstanding camera the videos and pictures are very great'},\n",
       "  {'high': 'Terrific purchase', 'review': 'Good performance & camera'},\n",
       "  {'high': 'Highly recommended', 'review': 'Good product. Happy to buy it.'},\n",
       "  {'high': 'Classy product',\n",
       "   'review': 'iPhone always rock, thanks Flipkart for such a good offer ..!!? 7star phone'},\n",
       "  {'high': 'Great product', 'review': 'Best apple phone I market 🤘🏻'},\n",
       "  {'high': 'Super!',\n",
       "   'review': 'Awesome phone .. it makes you love it.. just go for it if you can afford it without second thoughts'}],\n",
       " [{'high': 'Wonderful',\n",
       "   'review': 'I bought during the big billion sale. It’s worth every penny. First iOS user and overwhelmed. The photos are much better than my mirror less camera. If you got the budget, go for it..... Don’t think twice.'},\n",
       "  {'high': 'Worth every penny', 'review': 'Superb...'},\n",
       "  {'high': 'Fabulous!',\n",
       "   'review': 'Fast performance to previous iPhone xGood camera quality but the best part of night mode #killingI am already One-plus7Huge difference between in night mode                &iPhones 11 pro winsDisplay is also great in  #iPhone 11 proDisappointed —-You can’t be move your data android to iphone , Move to ios app not working in that case.iPhone change his USB type cable, You cant be charge your phone to power bank through this cable.... type c plug replaces USB plug'},\n",
       "  {'high': 'Just wow!', 'review': 'Great'},\n",
       "  {'high': 'Excellent',\n",
       "   'review': 'very good phone no complains yetoutstanding camera the videos and pictures are very great'},\n",
       "  {'high': 'Terrific purchase', 'review': 'Good performance & camera'},\n",
       "  {'high': 'Highly recommended', 'review': 'Good product. Happy to buy it.'},\n",
       "  {'high': 'Classy product',\n",
       "   'review': 'iPhone always rock, thanks Flipkart for such a good offer ..!!? 7star phone'},\n",
       "  {'high': 'Great product', 'review': 'Best apple phone I market 🤘🏻'},\n",
       "  {'high': 'Super!',\n",
       "   'review': 'Awesome phone .. it makes you love it.. just go for it if you can afford it without second thoughts'}],\n",
       " [{'high': 'Highly recommended',\n",
       "   'review': 'Battery - more or less 2 daysCamera - can now perform very good in low light (night )Heating- no heating for 15+ daysCharging- Quick charger ( which now comes in box ) charges 1-80 in less than an hour. The next 20 requires next 25 mins or so.'},\n",
       "  {'high': 'Worth every penny',\n",
       "   'review': 'Just Awesome, For Night mode in camera no one can beat Iphone, performance super fast, portraits mono mode just ossm, Even in battery backup is now improved than previous iphone,  in the box ,apple gives Fast charger 👌🏻👌🏻👌🏻'},\n",
       "  {'high': 'Good quality product',\n",
       "   'review': \"impressively Nice......One of the greatest iPhone i ever used ....All was like Never before ...it's just Amazing ...Battery Life is too good ...2 Days with hevy usedCamera also like Apple Quality best ever\"},\n",
       "  {'high': 'Perfect product!',\n",
       "   'review': 'I had doubts about getting an iPhone from online stores/e-commerce, but bought this anyway on 24/10 and got it by 28/10. About the iPhone ,well there’s nothing new we could say about apple products- High standards,New iOS updates every year,built quality. In 11 pro max Camera, the new A13 bionic chip,Battery are the highlights. I was never worried about the phone or had any doubts about it’s performance. These are few shots that I’ve taken since I got this iPhone. It’s been  only 2 days so co...'},\n",
       "  {'high': 'Worth every penny',\n",
       "   'review': 'Great purchase, happily upgraded to iPhone 11 pro max and I’m quite satisfied with the performance of the phone :))'},\n",
       "  {'high': 'Must buy!',\n",
       "   'review': 'It’s a beast, what a device... in love with it'},\n",
       "  {'high': 'Terrific purchase', 'review': 'Nice very good phone'},\n",
       "  {'high': 'Must buy!',\n",
       "   'review': 'Camera and battery life s the best in this iPhone.. the os 13 very fluid .. one of the best products for Apple'},\n",
       "  {'high': 'Great product', 'review': 'The best phone from apple loving it!'},\n",
       "  {'high': 'Mind-blowing purchase',\n",
       "   'review': 'Superb Apple IPhones 11 pro max i love it. Faster performance, awesome camera. Battery life good.Apple for life'}],\n",
       " [{'high': 'Wonderful',\n",
       "   'review': 'I bought during the big billion sale. It’s worth every penny. First iOS user and overwhelmed. The photos are much better than my mirror less camera. If you got the budget, go for it..... Don’t think twice.'},\n",
       "  {'high': 'Worth every penny', 'review': 'Superb...'},\n",
       "  {'high': 'Fabulous!',\n",
       "   'review': 'Fast performance to previous iPhone xGood camera quality but the best part of night mode #killingI am already One-plus7Huge difference between in night mode                &iPhones 11 pro winsDisplay is also great in  #iPhone 11 proDisappointed —-You can’t be move your data android to iphone , Move to ios app not working in that case.iPhone change his USB type cable, You cant be charge your phone to power bank through this cable.... type c plug replaces USB plug'},\n",
       "  {'high': 'Just wow!', 'review': 'Great'},\n",
       "  {'high': 'Excellent',\n",
       "   'review': 'very good phone no complains yetoutstanding camera the videos and pictures are very great'},\n",
       "  {'high': 'Terrific purchase', 'review': 'Good performance & camera'},\n",
       "  {'high': 'Highly recommended', 'review': 'Good product. Happy to buy it.'},\n",
       "  {'high': 'Classy product',\n",
       "   'review': 'iPhone always rock, thanks Flipkart for such a good offer ..!!? 7star phone'},\n",
       "  {'high': 'Great product', 'review': 'Best apple phone I market 🤘🏻'},\n",
       "  {'high': 'Super!',\n",
       "   'review': 'Awesome phone .. it makes you love it.. just go for it if you can afford it without second thoughts'}],\n",
       " [{'high': 'Wonderful',\n",
       "   'review': 'I bought during the big billion sale. It’s worth every penny. First iOS user and overwhelmed. The photos are much better than my mirror less camera. If you got the budget, go for it..... Don’t think twice.'},\n",
       "  {'high': 'Worth every penny', 'review': 'Superb...'},\n",
       "  {'high': 'Fabulous!',\n",
       "   'review': 'Fast performance to previous iPhone xGood camera quality but the best part of night mode #killingI am already One-plus7Huge difference between in night mode                &iPhones 11 pro winsDisplay is also great in  #iPhone 11 proDisappointed —-You can’t be move your data android to iphone , Move to ios app not working in that case.iPhone change his USB type cable, You cant be charge your phone to power bank through this cable.... type c plug replaces USB plug'},\n",
       "  {'high': 'Just wow!', 'review': 'Great'},\n",
       "  {'high': 'Excellent',\n",
       "   'review': 'very good phone no complains yetoutstanding camera the videos and pictures are very great'},\n",
       "  {'high': 'Terrific purchase', 'review': 'Good performance & camera'},\n",
       "  {'high': 'Highly recommended', 'review': 'Good product. Happy to buy it.'},\n",
       "  {'high': 'Classy product',\n",
       "   'review': 'iPhone always rock, thanks Flipkart for such a good offer ..!!? 7star phone'},\n",
       "  {'high': 'Great product', 'review': 'Best apple phone I market 🤘🏻'},\n",
       "  {'high': 'Super!',\n",
       "   'review': 'Awesome phone .. it makes you love it.. just go for it if you can afford it without second thoughts'}],\n",
       " [{'high': 'Worth every penny',\n",
       "   'review': 'Feeling awesome after getting the delivery of my phone. Dual speakers makes the sound quality very loud. Amazing!!'},\n",
       "  {'high': 'Best in the market!', 'review': 'Good Camera'},\n",
       "  {'high': 'Terrific', 'review': 'Very very good'},\n",
       "  {'high': 'Classy product',\n",
       "   'review': 'Camera is awesomeBest battery backupA performer 👌🏻It will be a real value for money if they provide charger and earphone inbox!'},\n",
       "  {'high': 'Terrific purchase', 'review': 'Value for money 😍'},\n",
       "  {'high': 'Brilliant', 'review': 'very good camera quality'},\n",
       "  {'high': 'Perfect product!', 'review': 'Photos super'},\n",
       "  {'high': 'Just wow!', 'review': 'Perfect Product!!'},\n",
       "  {'high': 'Wonderful', 'review': 'This is amazing at all'},\n",
       "  {'high': 'Fabulous!', 'review': 'Super🔥 and good performance 👌❤️'}],\n",
       " [{'high': 'Highly recommended',\n",
       "   'review': 'Battery - more or less 2 daysCamera - can now perform very good in low light (night )Heating- no heating for 15+ daysCharging- Quick charger ( which now comes in box ) charges 1-80 in less than an hour. The next 20 requires next 25 mins or so.'},\n",
       "  {'high': 'Worth every penny',\n",
       "   'review': 'Just Awesome, For Night mode in camera no one can beat Iphone, performance super fast, portraits mono mode just ossm, Even in battery backup is now improved than previous iphone,  in the box ,apple gives Fast charger 👌🏻👌🏻👌🏻'},\n",
       "  {'high': 'Good quality product',\n",
       "   'review': \"impressively Nice......One of the greatest iPhone i ever used ....All was like Never before ...it's just Amazing ...Battery Life is too good ...2 Days with hevy usedCamera also like Apple Quality best ever\"},\n",
       "  {'high': 'Perfect product!',\n",
       "   'review': 'I had doubts about getting an iPhone from online stores/e-commerce, but bought this anyway on 24/10 and got it by 28/10. About the iPhone ,well there’s nothing new we could say about apple products- High standards,New iOS updates every year,built quality. In 11 pro max Camera, the new A13 bionic chip,Battery are the highlights. I was never worried about the phone or had any doubts about it’s performance. These are few shots that I’ve taken since I got this iPhone. It’s been  only 2 days so co...'},\n",
       "  {'high': 'Worth every penny',\n",
       "   'review': 'Great purchase, happily upgraded to iPhone 11 pro max and I’m quite satisfied with the performance of the phone :))'},\n",
       "  {'high': 'Must buy!',\n",
       "   'review': 'It’s a beast, what a device... in love with it'},\n",
       "  {'high': 'Terrific purchase', 'review': 'Nice very good phone'},\n",
       "  {'high': 'Must buy!',\n",
       "   'review': 'Camera and battery life s the best in this iPhone.. the os 13 very fluid .. one of the best products for Apple'},\n",
       "  {'high': 'Great product', 'review': 'The best phone from apple loving it!'},\n",
       "  {'high': 'Mind-blowing purchase',\n",
       "   'review': 'Superb Apple IPhones 11 pro max i love it. Faster performance, awesome camera. Battery life good.Apple for life'}],\n",
       " [{'high': 'Highly recommended',\n",
       "   'review': 'Battery - more or less 2 daysCamera - can now perform very good in low light (night )Heating- no heating for 15+ daysCharging- Quick charger ( which now comes in box ) charges 1-80 in less than an hour. The next 20 requires next 25 mins or so.'},\n",
       "  {'high': 'Worth every penny',\n",
       "   'review': 'Just Awesome, For Night mode in camera no one can beat Iphone, performance super fast, portraits mono mode just ossm, Even in battery backup is now improved than previous iphone,  in the box ,apple gives Fast charger 👌🏻👌🏻👌🏻'},\n",
       "  {'high': 'Good quality product',\n",
       "   'review': \"impressively Nice......One of the greatest iPhone i ever used ....All was like Never before ...it's just Amazing ...Battery Life is too good ...2 Days with hevy usedCamera also like Apple Quality best ever\"},\n",
       "  {'high': 'Perfect product!',\n",
       "   'review': 'I had doubts about getting an iPhone from online stores/e-commerce, but bought this anyway on 24/10 and got it by 28/10. About the iPhone ,well there’s nothing new we could say about apple products- High standards,New iOS updates every year,built quality. In 11 pro max Camera, the new A13 bionic chip,Battery are the highlights. I was never worried about the phone or had any doubts about it’s performance. These are few shots that I’ve taken since I got this iPhone. It’s been  only 2 days so co...'},\n",
       "  {'high': 'Worth every penny',\n",
       "   'review': 'Great purchase, happily upgraded to iPhone 11 pro max and I’m quite satisfied with the performance of the phone :))'},\n",
       "  {'high': 'Must buy!',\n",
       "   'review': 'It’s a beast, what a device... in love with it'},\n",
       "  {'high': 'Terrific purchase', 'review': 'Nice very good phone'},\n",
       "  {'high': 'Must buy!',\n",
       "   'review': 'Camera and battery life s the best in this iPhone.. the os 13 very fluid .. one of the best products for Apple'},\n",
       "  {'high': 'Great product', 'review': 'The best phone from apple loving it!'},\n",
       "  {'high': 'Mind-blowing purchase',\n",
       "   'review': 'Superb Apple IPhones 11 pro max i love it. Faster performance, awesome camera. Battery life good.Apple for life'}],\n",
       " [{'high': 'Highly recommended',\n",
       "   'review': 'Battery - more or less 2 daysCamera - can now perform very good in low light (night )Heating- no heating for 15+ daysCharging- Quick charger ( which now comes in box ) charges 1-80 in less than an hour. The next 20 requires next 25 mins or so.'},\n",
       "  {'high': 'Worth every penny',\n",
       "   'review': 'Just Awesome, For Night mode in camera no one can beat Iphone, performance super fast, portraits mono mode just ossm, Even in battery backup is now improved than previous iphone,  in the box ,apple gives Fast charger 👌🏻👌🏻👌🏻'},\n",
       "  {'high': 'Good quality product',\n",
       "   'review': \"impressively Nice......One of the greatest iPhone i ever used ....All was like Never before ...it's just Amazing ...Battery Life is too good ...2 Days with hevy usedCamera also like Apple Quality best ever\"},\n",
       "  {'high': 'Perfect product!',\n",
       "   'review': 'I had doubts about getting an iPhone from online stores/e-commerce, but bought this anyway on 24/10 and got it by 28/10. About the iPhone ,well there’s nothing new we could say about apple products- High standards,New iOS updates every year,built quality. In 11 pro max Camera, the new A13 bionic chip,Battery are the highlights. I was never worried about the phone or had any doubts about it’s performance. These are few shots that I’ve taken since I got this iPhone. It’s been  only 2 days so co...'},\n",
       "  {'high': 'Worth every penny',\n",
       "   'review': 'Great purchase, happily upgraded to iPhone 11 pro max and I’m quite satisfied with the performance of the phone :))'},\n",
       "  {'high': 'Must buy!',\n",
       "   'review': 'It’s a beast, what a device... in love with it'},\n",
       "  {'high': 'Terrific purchase', 'review': 'Nice very good phone'},\n",
       "  {'high': 'Must buy!',\n",
       "   'review': 'Camera and battery life s the best in this iPhone.. the os 13 very fluid .. one of the best products for Apple'},\n",
       "  {'high': 'Great product', 'review': 'The best phone from apple loving it!'},\n",
       "  {'high': 'Mind-blowing purchase',\n",
       "   'review': 'Superb Apple IPhones 11 pro max i love it. Faster performance, awesome camera. Battery life good.Apple for life'}],\n",
       " [{'high': 'Highly recommended',\n",
       "   'review': 'Battery - more or less 2 daysCamera - can now perform very good in low light (night )Heating- no heating for 15+ daysCharging- Quick charger ( which now comes in box ) charges 1-80 in less than an hour. The next 20 requires next 25 mins or so.'},\n",
       "  {'high': 'Worth every penny',\n",
       "   'review': 'Just Awesome, For Night mode in camera no one can beat Iphone, performance super fast, portraits mono mode just ossm, Even in battery backup is now improved than previous iphone,  in the box ,apple gives Fast charger 👌🏻👌🏻👌🏻'},\n",
       "  {'high': 'Good quality product',\n",
       "   'review': \"impressively Nice......One of the greatest iPhone i ever used ....All was like Never before ...it's just Amazing ...Battery Life is too good ...2 Days with hevy usedCamera also like Apple Quality best ever\"},\n",
       "  {'high': 'Perfect product!',\n",
       "   'review': 'I had doubts about getting an iPhone from online stores/e-commerce, but bought this anyway on 24/10 and got it by 28/10. About the iPhone ,well there’s nothing new we could say about apple products- High standards,New iOS updates every year,built quality. In 11 pro max Camera, the new A13 bionic chip,Battery are the highlights. I was never worried about the phone or had any doubts about it’s performance. These are few shots that I’ve taken since I got this iPhone. It’s been  only 2 days so co...'},\n",
       "  {'high': 'Worth every penny',\n",
       "   'review': 'Great purchase, happily upgraded to iPhone 11 pro max and I’m quite satisfied with the performance of the phone :))'},\n",
       "  {'high': 'Must buy!',\n",
       "   'review': 'It’s a beast, what a device... in love with it'},\n",
       "  {'high': 'Terrific purchase', 'review': 'Nice very good phone'},\n",
       "  {'high': 'Must buy!',\n",
       "   'review': 'Camera and battery life s the best in this iPhone.. the os 13 very fluid .. one of the best products for Apple'},\n",
       "  {'high': 'Great product', 'review': 'The best phone from apple loving it!'},\n",
       "  {'high': 'Mind-blowing purchase',\n",
       "   'review': 'Superb Apple IPhones 11 pro max i love it. Faster performance, awesome camera. Battery life good.Apple for life'}],\n",
       " [{'high': 'Wonderful',\n",
       "   'review': 'I bought during the big billion sale. It’s worth every penny. First iOS user and overwhelmed. The photos are much better than my mirror less camera. If you got the budget, go for it..... Don’t think twice.'},\n",
       "  {'high': 'Worth every penny', 'review': 'Superb...'},\n",
       "  {'high': 'Fabulous!',\n",
       "   'review': 'Fast performance to previous iPhone xGood camera quality but the best part of night mode #killingI am already One-plus7Huge difference between in night mode                &iPhones 11 pro winsDisplay is also great in  #iPhone 11 proDisappointed —-You can’t be move your data android to iphone , Move to ios app not working in that case.iPhone change his USB type cable, You cant be charge your phone to power bank through this cable.... type c plug replaces USB plug'},\n",
       "  {'high': 'Just wow!', 'review': 'Great'},\n",
       "  {'high': 'Excellent',\n",
       "   'review': 'very good phone no complains yetoutstanding camera the videos and pictures are very great'},\n",
       "  {'high': 'Terrific purchase', 'review': 'Good performance & camera'},\n",
       "  {'high': 'Highly recommended', 'review': 'Good product. Happy to buy it.'},\n",
       "  {'high': 'Classy product',\n",
       "   'review': 'iPhone always rock, thanks Flipkart for such a good offer ..!!? 7star phone'},\n",
       "  {'high': 'Great product', 'review': 'Best apple phone I market 🤘🏻'},\n",
       "  {'high': 'Super!',\n",
       "   'review': 'Awesome phone .. it makes you love it.. just go for it if you can afford it without second thoughts'}],\n",
       " [{'high': 'Wonderful',\n",
       "   'review': 'I bought during the big billion sale. It’s worth every penny. First iOS user and overwhelmed. The photos are much better than my mirror less camera. If you got the budget, go for it..... Don’t think twice.'},\n",
       "  {'high': 'Worth every penny', 'review': 'Superb...'},\n",
       "  {'high': 'Fabulous!',\n",
       "   'review': 'Fast performance to previous iPhone xGood camera quality but the best part of night mode #killingI am already One-plus7Huge difference between in night mode                &iPhones 11 pro winsDisplay is also great in  #iPhone 11 proDisappointed —-You can’t be move your data android to iphone , Move to ios app not working in that case.iPhone change his USB type cable, You cant be charge your phone to power bank through this cable.... type c plug replaces USB plug'},\n",
       "  {'high': 'Just wow!', 'review': 'Great'},\n",
       "  {'high': 'Excellent',\n",
       "   'review': 'very good phone no complains yetoutstanding camera the videos and pictures are very great'},\n",
       "  {'high': 'Terrific purchase', 'review': 'Good performance & camera'},\n",
       "  {'high': 'Highly recommended', 'review': 'Good product. Happy to buy it.'},\n",
       "  {'high': 'Classy product',\n",
       "   'review': 'iPhone always rock, thanks Flipkart for such a good offer ..!!? 7star phone'},\n",
       "  {'high': 'Great product', 'review': 'Best apple phone I market 🤘🏻'},\n",
       "  {'high': 'Super!',\n",
       "   'review': 'Awesome phone .. it makes you love it.. just go for it if you can afford it without second thoughts'}]]"
      ]
     },
     "execution_count": 97,
     "metadata": {},
     "output_type": "execute_result"
    }
   ],
   "source": [
    "product_reviews"
   ]
  },
  {
   "cell_type": "code",
   "execution_count": null,
   "id": "703f69cf-15f8-434c-8680-3e51ed5aad00",
   "metadata": {},
   "outputs": [],
   "source": []
  }
 ],
 "metadata": {
  "kernelspec": {
   "display_name": "Python 3 (ipykernel)",
   "language": "python",
   "name": "python3"
  },
  "language_info": {
   "codemirror_mode": {
    "name": "ipython",
    "version": 3
   },
   "file_extension": ".py",
   "mimetype": "text/x-python",
   "name": "python",
   "nbconvert_exporter": "python",
   "pygments_lexer": "ipython3",
   "version": "3.11.5"
  }
 },
 "nbformat": 4,
 "nbformat_minor": 5
}
