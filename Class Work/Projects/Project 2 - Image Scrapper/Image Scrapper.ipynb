{
 "cells": [
  {
   "cell_type": "code",
   "execution_count": 32,
   "id": "1919d387-d334-4365-b4ba-e71acb023ea9",
   "metadata": {
    "tags": []
   },
   "outputs": [],
   "source": [
    "import requests\n",
    "from bs4 import BeautifulSoup as bs\n",
    "from urllib.request import urlopen\n",
    "import logging\n",
    "import pymongo\n",
    "import os"
   ]
  },
  {
   "cell_type": "code",
   "execution_count": 33,
   "id": "50e1e86a-7331-45cb-b09d-14d3ceb537ad",
   "metadata": {
    "tags": []
   },
   "outputs": [],
   "source": [
    "save_dir='images/'\n",
    "if not os.path.exists(save_dir):\n",
    "    os.makedirs(save_dir)"
   ]
  },
  {
   "cell_type": "code",
   "execution_count": 34,
   "id": "526fe836-dfd8-44da-98e9-3dd96309bbb4",
   "metadata": {
    "tags": []
   },
   "outputs": [],
   "source": [
    "headers = {\"User-Agent\": \"Mozilla/5.0 (Windows NT 10.0; Win64; x64) AppleWebKit/537.36 (KHTML, like Gecko) Chrome/58.0.3029.110 Safari/537.36\"}"
   ]
  },
  {
   "cell_type": "code",
   "execution_count": 35,
   "id": "2d5fcbab-38c4-4ef9-9127-b21aed3f4bc9",
   "metadata": {
    "tags": []
   },
   "outputs": [],
   "source": [
    "query = \"elon musk\"\n",
    "response = requests.get(f\"https://www.google.com/search?q={query}&sxsrf=AJOqlzUuff1RXi2mm8I_OqOwT9VjfIDL7w:1676996143273&source=lnms&tbm=isch&sa=X&ved=2ahUKEwiq-qK7gaf9AhXUgVYBHYReAfYQ_AUoA3oECAEQBQ&biw=1920&bih=937&dpr=1#imgrc=1th7VhSesfMJ4M\")"
   ]
  },
  {
   "cell_type": "code",
   "execution_count": 36,
   "id": "19c55360-2860-4fed-9ac0-1b0c4f63a3d2",
   "metadata": {
    "tags": []
   },
   "outputs": [],
   "source": [
    "soup=bs(response.content,'html.parser')"
   ]
  },
  {
   "cell_type": "code",
   "execution_count": 37,
   "id": "23bc96ea-96d9-4116-863c-2659fc264352",
   "metadata": {
    "tags": []
   },
   "outputs": [],
   "source": [
    "image_tags=soup.findAll('img')"
   ]
  },
  {
   "cell_type": "code",
   "execution_count": 38,
   "id": "208335e5-51f0-4828-aed7-02d348fa123e",
   "metadata": {
    "tags": []
   },
   "outputs": [
    {
     "data": {
      "text/plain": [
       "21"
      ]
     },
     "execution_count": 38,
     "metadata": {},
     "output_type": "execute_result"
    }
   ],
   "source": [
    "len(image_tags)"
   ]
  },
  {
   "cell_type": "code",
   "execution_count": 40,
   "id": "d713a19c-b3d4-47d9-81a6-5feffc9c430d",
   "metadata": {
    "tags": []
   },
   "outputs": [
    {
     "data": {
      "text/plain": [
       "InsertManyResult([ObjectId('65f42503ae77bff1066b56e5'), ObjectId('65f42503ae77bff1066b56e6'), ObjectId('65f42503ae77bff1066b56e7'), ObjectId('65f42503ae77bff1066b56e8'), ObjectId('65f42503ae77bff1066b56e9'), ObjectId('65f42503ae77bff1066b56ea'), ObjectId('65f42503ae77bff1066b56eb'), ObjectId('65f42503ae77bff1066b56ec'), ObjectId('65f42503ae77bff1066b56ed'), ObjectId('65f42503ae77bff1066b56ee'), ObjectId('65f42503ae77bff1066b56ef'), ObjectId('65f42503ae77bff1066b56f0'), ObjectId('65f42503ae77bff1066b56f1'), ObjectId('65f42503ae77bff1066b56f2'), ObjectId('65f42503ae77bff1066b56f3'), ObjectId('65f42503ae77bff1066b56f4'), ObjectId('65f42503ae77bff1066b56f5'), ObjectId('65f42503ae77bff1066b56f6'), ObjectId('65f42503ae77bff1066b56f7')], acknowledged=True)"
      ]
     },
     "execution_count": 40,
     "metadata": {},
     "output_type": "execute_result"
    }
   ],
   "source": [
    "client=pymongo.MongoClient('mongodb://localhost:27017/')\n",
    "db=client['image_scrapper']\n",
    "coll=db['images']\n",
    "img_data=[]\n",
    "del image_tags[0]\n",
    "for image in image_tags:\n",
    "    image_url=image['src']\n",
    "    image_data=requests.get(image_url).content\n",
    "    mydict={'index':image_url,'image':image_data}\n",
    "    img_data.append(mydict)\n",
    "    with open(os.path.join(save_dir,f'{query}_{image_tags.index(image)}.jpg'),'wb') as f:\n",
    "        f.write(image_data)\n",
    "        \n",
    "coll.insert_many(img_data)"
   ]
  },
  {
   "cell_type": "code",
   "execution_count": null,
   "id": "bb436e47-ed51-46dc-af23-a27b2fff3cec",
   "metadata": {},
   "outputs": [],
   "source": []
  }
 ],
 "metadata": {
  "kernelspec": {
   "display_name": "Python 3 (ipykernel)",
   "language": "python",
   "name": "python3"
  },
  "language_info": {
   "codemirror_mode": {
    "name": "ipython",
    "version": 3
   },
   "file_extension": ".py",
   "mimetype": "text/x-python",
   "name": "python",
   "nbconvert_exporter": "python",
   "pygments_lexer": "ipython3",
   "version": "3.11.5"
  }
 },
 "nbformat": 4,
 "nbformat_minor": 5
}
