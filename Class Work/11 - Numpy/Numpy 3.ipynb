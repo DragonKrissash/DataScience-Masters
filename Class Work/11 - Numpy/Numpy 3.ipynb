{
 "cells": [
  {
   "cell_type": "code",
   "execution_count": 1,
   "id": "145bd641-7063-42b3-a022-3ed0e02004f4",
   "metadata": {
    "tags": []
   },
   "outputs": [],
   "source": [
    "import numpy as np"
   ]
  },
  {
   "cell_type": "code",
   "execution_count": 2,
   "id": "5afa0bb4-46e4-4ca2-a523-ee21c84cc1cc",
   "metadata": {
    "tags": []
   },
   "outputs": [],
   "source": [
    "arr=np.random.randint(1,101,10)"
   ]
  },
  {
   "cell_type": "code",
   "execution_count": 11,
   "id": "c9bccd7e-cd40-4046-8622-f8ad235f5ed3",
   "metadata": {
    "tags": []
   },
   "outputs": [
    {
     "data": {
      "text/plain": [
       "array([50, 86, 55, 43, 79, 75,  9, 46, 49, 10])"
      ]
     },
     "execution_count": 11,
     "metadata": {},
     "output_type": "execute_result"
    }
   ],
   "source": [
    "arr"
   ]
  },
  {
   "cell_type": "code",
   "execution_count": 12,
   "id": "e0fce779-3aab-4a3c-936c-d02e0ac55049",
   "metadata": {
    "tags": []
   },
   "outputs": [
    {
     "data": {
      "text/plain": [
       "array([ 9, 10, 43, 46, 49, 50, 55, 75, 79, 86])"
      ]
     },
     "execution_count": 12,
     "metadata": {},
     "output_type": "execute_result"
    }
   ],
   "source": [
    "np.sort(arr)"
   ]
  },
  {
   "cell_type": "code",
   "execution_count": 16,
   "id": "6c935cc4-757e-4dba-a8a5-a543da326e76",
   "metadata": {
    "tags": []
   },
   "outputs": [
    {
     "data": {
      "text/plain": [
       "0"
      ]
     },
     "execution_count": 16,
     "metadata": {},
     "output_type": "execute_result"
    }
   ],
   "source": [
    "np.searchsorted(arr,25)"
   ]
  },
  {
   "cell_type": "code",
   "execution_count": 17,
   "id": "268474f1-0b11-462b-b24d-6bc5c79f9c59",
   "metadata": {
    "tags": []
   },
   "outputs": [],
   "source": [
    "arr1=np.array([0,0,13,234,0,0,0,0,0,0])"
   ]
  },
  {
   "cell_type": "code",
   "execution_count": 20,
   "id": "462313a7-34cc-457c-8eff-e57456619cc3",
   "metadata": {
    "tags": []
   },
   "outputs": [
    {
     "data": {
      "text/plain": [
       "2"
      ]
     },
     "execution_count": 20,
     "metadata": {},
     "output_type": "execute_result"
    }
   ],
   "source": [
    "np.count_nonzero(arr1)"
   ]
  },
  {
   "cell_type": "code",
   "execution_count": 21,
   "id": "fc354fc0-67d8-41b0-aec2-66ab8506c2b6",
   "metadata": {
    "tags": []
   },
   "outputs": [
    {
     "data": {
      "text/plain": [
       "(array([2, 3], dtype=int64),)"
      ]
     },
     "execution_count": 21,
     "metadata": {},
     "output_type": "execute_result"
    }
   ],
   "source": [
    "np.where(arr1>10)"
   ]
  },
  {
   "cell_type": "code",
   "execution_count": 24,
   "id": "71d36933-cd3d-4be1-8e88-4bf1321eb8b7",
   "metadata": {
    "tags": []
   },
   "outputs": [
    {
     "data": {
      "text/plain": [
       "array([ 13, 234])"
      ]
     },
     "execution_count": 24,
     "metadata": {},
     "output_type": "execute_result"
    }
   ],
   "source": [
    "np.extract(arr1>10,arr1)"
   ]
  },
  {
   "cell_type": "code",
   "execution_count": 25,
   "id": "65d3fc5c-1e58-4e5c-b387-a3b7e689c32e",
   "metadata": {
    "tags": []
   },
   "outputs": [
    {
     "data": {
      "text/plain": [
       "array([ 838860800, 1442840576,  922746880,  721420288, 1325400064,\n",
       "       1258291200,  150994944,  771751936,  822083584,  167772160])"
      ]
     },
     "execution_count": 25,
     "metadata": {},
     "output_type": "execute_result"
    }
   ],
   "source": [
    "arr.byteswap()"
   ]
  },
  {
   "cell_type": "code",
   "execution_count": 26,
   "id": "1070980b-6904-4cec-8137-5e6928317178",
   "metadata": {
    "tags": []
   },
   "outputs": [],
   "source": [
    "a=np.copy(arr)"
   ]
  },
  {
   "cell_type": "code",
   "execution_count": 27,
   "id": "d912e0d7-b026-4e75-a9ae-a0ba70402f92",
   "metadata": {
    "tags": []
   },
   "outputs": [
    {
     "data": {
      "text/plain": [
       "array([50, 86, 55, 43, 79, 75,  9, 46, 49, 10])"
      ]
     },
     "execution_count": 27,
     "metadata": {},
     "output_type": "execute_result"
    }
   ],
   "source": [
    "a"
   ]
  },
  {
   "cell_type": "code",
   "execution_count": 28,
   "id": "5d83c851-d239-4007-b5b3-8d3ce8df853f",
   "metadata": {
    "tags": []
   },
   "outputs": [],
   "source": [
    "b=arr.view()"
   ]
  },
  {
   "cell_type": "code",
   "execution_count": 31,
   "id": "13d263cb-5177-4254-9692-ceb13f189637",
   "metadata": {
    "tags": []
   },
   "outputs": [
    {
     "data": {
      "text/plain": [
       "array([50, 86, 55, 43, 79, 75,  9, 46, 49, 10])"
      ]
     },
     "execution_count": 31,
     "metadata": {},
     "output_type": "execute_result"
    }
   ],
   "source": [
    "b"
   ]
  },
  {
   "cell_type": "code",
   "execution_count": 32,
   "id": "e528b41b-1f4d-48ed-9993-fbfbf6af4912",
   "metadata": {
    "tags": []
   },
   "outputs": [],
   "source": [
    "import numpy.matlib as nm"
   ]
  },
  {
   "cell_type": "code",
   "execution_count": 35,
   "id": "68ce2a6b-d74c-45e6-af13-13f8194e4869",
   "metadata": {
    "tags": []
   },
   "outputs": [
    {
     "data": {
      "text/plain": [
       "matrix([[0., 0., 0.],\n",
       "        [0., 0., 0.],\n",
       "        [0., 0., 0.]])"
      ]
     },
     "execution_count": 35,
     "metadata": {},
     "output_type": "execute_result"
    }
   ],
   "source": [
    "nm.zeros((3,3))"
   ]
  },
  {
   "cell_type": "code",
   "execution_count": 36,
   "id": "2a0d85e7-6b92-432d-ac47-64df80a8bb3e",
   "metadata": {
    "tags": []
   },
   "outputs": [
    {
     "data": {
      "text/plain": [
       "matrix([[1., 0., 0., 0., 0.],\n",
       "        [0., 1., 0., 0., 0.],\n",
       "        [0., 0., 1., 0., 0.],\n",
       "        [0., 0., 0., 1., 0.],\n",
       "        [0., 0., 0., 0., 1.]])"
      ]
     },
     "execution_count": 36,
     "metadata": {},
     "output_type": "execute_result"
    }
   ],
   "source": [
    "nm.eye(5)"
   ]
  },
  {
   "cell_type": "code",
   "execution_count": 42,
   "id": "03abeb95-8145-4568-9a10-dd3ee5ba4fcf",
   "metadata": {
    "tags": []
   },
   "outputs": [],
   "source": [
    "arr1=np.array([[2,3],[4,5]])"
   ]
  },
  {
   "cell_type": "code",
   "execution_count": 43,
   "id": "f408fb36-908d-41a4-a513-8df19b2f4487",
   "metadata": {
    "tags": []
   },
   "outputs": [],
   "source": [
    "arr2=np.array([[5,3],[2,5]])"
   ]
  },
  {
   "cell_type": "code",
   "execution_count": 44,
   "id": "3d1063d1-9164-4943-a4dd-e1e0d4faea86",
   "metadata": {
    "tags": []
   },
   "outputs": [
    {
     "data": {
      "text/plain": [
       "array([[5, 3],\n",
       "       [2, 5]])"
      ]
     },
     "execution_count": 44,
     "metadata": {},
     "output_type": "execute_result"
    }
   ],
   "source": [
    "arr2"
   ]
  },
  {
   "cell_type": "code",
   "execution_count": null,
   "id": "9ba9b74e-f3b0-49b8-b197-409fc4e16e1b",
   "metadata": {},
   "outputs": [],
   "source": [
    "np.do"
   ]
  }
 ],
 "metadata": {
  "kernelspec": {
   "display_name": "Python 3 (ipykernel)",
   "language": "python",
   "name": "python3"
  },
  "language_info": {
   "codemirror_mode": {
    "name": "ipython",
    "version": 3
   },
   "file_extension": ".py",
   "mimetype": "text/x-python",
   "name": "python",
   "nbconvert_exporter": "python",
   "pygments_lexer": "ipython3",
   "version": "3.11.5"
  }
 },
 "nbformat": 4,
 "nbformat_minor": 5
}
