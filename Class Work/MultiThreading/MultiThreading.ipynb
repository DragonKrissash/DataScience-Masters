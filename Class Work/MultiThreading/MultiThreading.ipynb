{
 "cells": [
  {
   "cell_type": "code",
   "execution_count": 9,
   "id": "ac405d9d-e02a-49a5-9768-4cb21d66852a",
   "metadata": {
    "tags": []
   },
   "outputs": [],
   "source": [
    "import logging\n",
    "import threading "
   ]
  },
  {
   "cell_type": "code",
   "execution_count": 3,
   "id": "73024be8-c147-4549-b103-1a3c0a728568",
   "metadata": {
    "tags": []
   },
   "outputs": [],
   "source": [
    "def test(id):\n",
    "    print('program start %d'%id )"
   ]
  },
  {
   "cell_type": "code",
   "execution_count": 4,
   "id": "77d3a17c-ca78-4089-89a5-d57b441c5b15",
   "metadata": {
    "tags": []
   },
   "outputs": [
    {
     "name": "stdout",
     "output_type": "stream",
     "text": [
      "program start 10\n"
     ]
    }
   ],
   "source": [
    "test(10)"
   ]
  },
  {
   "cell_type": "code",
   "execution_count": 20,
   "id": "1a2cd043-fa28-49ae-94fc-177eafb91d20",
   "metadata": {
    "tags": []
   },
   "outputs": [],
   "source": [
    "logging.basicConfig(filename='thread.log',level=logging.DEBUG,format='%(asctime)s %(message)s')"
   ]
  },
  {
   "cell_type": "code",
   "execution_count": 21,
   "id": "3db20b14-66c3-43de-acc7-06487a019c51",
   "metadata": {
    "tags": []
   },
   "outputs": [],
   "source": [
    "thread=[threading.Thread(target=test,args=(i,) ) for i in range(10)]\n",
    "logging.info('Thread created')"
   ]
  },
  {
   "cell_type": "code",
   "execution_count": 22,
   "id": "0c027e2c-81c7-4e2c-b977-cd6c9d6c9dd9",
   "metadata": {
    "tags": []
   },
   "outputs": [
    {
     "data": {
      "text/plain": [
       "[<Thread(Thread-25 (test), initial)>,\n",
       " <Thread(Thread-26 (test), initial)>,\n",
       " <Thread(Thread-27 (test), initial)>,\n",
       " <Thread(Thread-28 (test), initial)>,\n",
       " <Thread(Thread-29 (test), initial)>,\n",
       " <Thread(Thread-30 (test), initial)>,\n",
       " <Thread(Thread-31 (test), initial)>,\n",
       " <Thread(Thread-32 (test), initial)>,\n",
       " <Thread(Thread-33 (test), initial)>,\n",
       " <Thread(Thread-34 (test), initial)>]"
      ]
     },
     "execution_count": 22,
     "metadata": {},
     "output_type": "execute_result"
    }
   ],
   "source": [
    "thread"
   ]
  },
  {
   "cell_type": "code",
   "execution_count": 23,
   "id": "dfc4b0db-0a0c-442b-851e-3b9f032bfccd",
   "metadata": {
    "tags": []
   },
   "outputs": [
    {
     "name": "stdout",
     "output_type": "stream",
     "text": [
      "program start 0\n",
      "program start 1\n",
      "program start 2\n",
      "program start 3\n",
      "program start 4\n",
      "program start 5\n",
      "program start 6\n",
      "program start 7\n",
      "program start 8\n",
      "program start 9\n"
     ]
    }
   ],
   "source": [
    "for t in thread:\n",
    "    t.start()\n",
    "    logging.info('Thread produced')\n",
    "    "
   ]
  },
  {
   "cell_type": "code",
   "execution_count": 16,
   "id": "f94caf29-bd67-480c-9243-7d802490eb29",
   "metadata": {
    "tags": []
   },
   "outputs": [
    {
     "data": {
      "text/plain": [
       "[<Thread(Thread-15 (test), stopped 8480)>,\n",
       " <Thread(Thread-16 (test), stopped 23452)>,\n",
       " <Thread(Thread-17 (test), stopped 5260)>,\n",
       " <Thread(Thread-18 (test), stopped 2592)>,\n",
       " <Thread(Thread-19 (test), stopped 12144)>,\n",
       " <Thread(Thread-20 (test), stopped 14512)>,\n",
       " <Thread(Thread-21 (test), stopped 13180)>,\n",
       " <Thread(Thread-22 (test), stopped 15456)>,\n",
       " <Thread(Thread-23 (test), stopped 3936)>,\n",
       " <Thread(Thread-24 (test), stopped 17808)>]"
      ]
     },
     "execution_count": 16,
     "metadata": {},
     "output_type": "execute_result"
    }
   ],
   "source": [
    "thread"
   ]
  },
  {
   "cell_type": "code",
   "execution_count": 26,
   "id": "f31f0cc6-3ab9-4760-af42-407edb847be4",
   "metadata": {
    "tags": []
   },
   "outputs": [],
   "source": [
    "import threading\n",
    "import urllib.request\n",
    "\n",
    "def file_download(url,filename):\n",
    "    urllib.request.urlretrieve(url,filename)"
   ]
  },
  {
   "cell_type": "code",
   "execution_count": 27,
   "id": "4228d9c2-b48c-494d-82bc-0de47f6e0644",
   "metadata": {
    "tags": []
   },
   "outputs": [],
   "source": [
    "file_download('https://raw.githubusercontent.com/itsfoss/text-files/master/agatha.txt','agatha.txt')"
   ]
  },
  {
   "cell_type": "code",
   "execution_count": 28,
   "id": "490df53c-c751-48e0-8e89-a69b4572a2c6",
   "metadata": {
    "tags": []
   },
   "outputs": [],
   "source": [
    "url_list  = ['https://raw.githubusercontent.com/itsfoss/text-files/master/agatha.txt','https://raw.githubusercontent.com/itsfoss/text-files/master/sherlock.txt','https://raw.githubusercontent.com/itsfoss/text-files/master/sample_log_file.txt']"
   ]
  },
  {
   "cell_type": "code",
   "execution_count": 29,
   "id": "eb85b073-4603-49c7-9312-3d063d030670",
   "metadata": {
    "tags": []
   },
   "outputs": [],
   "source": [
    "file_name_list=['agatha.txt','sherlock.txt','sample_log_file.txt']"
   ]
  },
  {
   "cell_type": "code",
   "execution_count": 31,
   "id": "10bf45c3-de0a-48bf-b865-d3ff632d8129",
   "metadata": {
    "tags": []
   },
   "outputs": [],
   "source": [
    "thread=[threading.Thread(target=file_download,args=(url_list[i],file_name_list[i],)) for i in range(3)]"
   ]
  },
  {
   "cell_type": "code",
   "execution_count": 32,
   "id": "9986a02b-a236-49d3-8e94-ade5b8dadc32",
   "metadata": {
    "tags": []
   },
   "outputs": [],
   "source": [
    "for t in thread:\n",
    "    t.start()\n",
    "    "
   ]
  },
  {
   "cell_type": "code",
   "execution_count": 33,
   "id": "5f96fe40-12f9-4fd0-b70d-0bdc9c6e2e4f",
   "metadata": {
    "tags": []
   },
   "outputs": [
    {
     "data": {
      "text/plain": [
       "[<Thread(Thread-35 (file_download), stopped 4832)>,\n",
       " <Thread(Thread-36 (file_download), stopped 13060)>,\n",
       " <Thread(Thread-37 (file_download), stopped 14108)>]"
      ]
     },
     "execution_count": 33,
     "metadata": {},
     "output_type": "execute_result"
    }
   ],
   "source": [
    "thread"
   ]
  },
  {
   "cell_type": "code",
   "execution_count": 34,
   "id": "fd395ed5-bae6-45cc-9dd9-728e740b1e73",
   "metadata": {
    "tags": []
   },
   "outputs": [],
   "source": [
    "import time"
   ]
  },
  {
   "cell_type": "code",
   "execution_count": 36,
   "id": "b139a8a3-5e66-41d1-8611-ac20c57142a8",
   "metadata": {
    "tags": []
   },
   "outputs": [],
   "source": [
    "def test1(id):\n",
    "    for i in range(10):\n",
    "        print('test1 %d printing %d'%(id,i))\n",
    "        time.sleep(1)"
   ]
  },
  {
   "cell_type": "code",
   "execution_count": 37,
   "id": "1523dbaf-714c-4038-a769-6088278a4c6e",
   "metadata": {
    "tags": []
   },
   "outputs": [
    {
     "name": "stdout",
     "output_type": "stream",
     "text": [
      "test1 1 printing 0\n",
      "test1 1 printing 1\n",
      "test1 1 printing 2\n",
      "test1 1 printing 3\n",
      "test1 1 printing 4\n",
      "test1 1 printing 5\n",
      "test1 1 printing 6\n",
      "test1 1 printing 7\n",
      "test1 1 printing 8\n",
      "test1 1 printing 9\n"
     ]
    }
   ],
   "source": [
    "test1(1)"
   ]
  },
  {
   "cell_type": "code",
   "execution_count": 38,
   "id": "07426a4c-0544-4e2b-b657-63aad2e83cd2",
   "metadata": {
    "tags": []
   },
   "outputs": [],
   "source": [
    "thread=[threading.Thread(target=test1,args=(i,)) for i in range(1,4)]"
   ]
  },
  {
   "cell_type": "code",
   "execution_count": 39,
   "id": "17ac8554-58f7-4e86-b2d8-6654f8906614",
   "metadata": {
    "tags": []
   },
   "outputs": [
    {
     "name": "stdout",
     "output_type": "stream",
     "text": [
      "test1 1 printing 0\n",
      "test1 2 printing 0\n",
      "test1 3 printing 0\n",
      "test1 1 printing 1\n",
      "test1 3 printing 1\n",
      "test1 2 printing 1\n",
      "test1 1 printing 2\n",
      "test1 2 printing 2\n",
      "test1 3 printing 2\n",
      "test1 1 printing 3\n",
      "test1 2 printing 3\n",
      "test1 3 printing 3\n",
      "test1 1 printing 4\n",
      "test1 2 printing 4\n",
      "test1 3 printing 4\n",
      "test1 1 printing 5\n",
      "test1 2 printing 5\n",
      "test1 3 printing 5\n",
      "test1 1 printing 6\n",
      "test1 2 printing 6\n",
      "test1 3 printing 6\n",
      "test1 1 printing 7\n",
      "test1 2 printing 7\n",
      "test1 3 printing 7\n",
      "test1 1 printing 8\n",
      "test1 2 printing 8\n",
      "test1 3 printing 8\n",
      "test1 1 printing 9\n",
      "test1 2 printing 9\n",
      "test1 3 printing 9\n"
     ]
    }
   ],
   "source": [
    "for t in thread:\n",
    "    t.start()"
   ]
  },
  {
   "cell_type": "code",
   "execution_count": 46,
   "id": "a7331355-d017-49dc-a4bc-739106f56d68",
   "metadata": {
    "tags": []
   },
   "outputs": [],
   "source": [
    "def test1(id):\n",
    "    for i in range(10):\n",
    "        print('test1 %d printing %d %s'%(id,i,time.ctime()))\n",
    "        time.sleep(1)"
   ]
  },
  {
   "cell_type": "code",
   "execution_count": 47,
   "id": "bf430c3c-f17e-4125-a2db-75c3c3822204",
   "metadata": {
    "tags": []
   },
   "outputs": [
    {
     "name": "stdout",
     "output_type": "stream",
     "text": [
      "test1 1 printing 0 Thu Mar 14 12:37:49 2024\n",
      "test1 1 printing 1 Thu Mar 14 12:37:50 2024\n",
      "test1 1 printing 2 Thu Mar 14 12:37:51 2024\n",
      "test1 1 printing 3 Thu Mar 14 12:37:52 2024\n",
      "test1 1 printing 4 Thu Mar 14 12:37:53 2024\n",
      "test1 1 printing 5 Thu Mar 14 12:37:54 2024\n",
      "test1 1 printing 6 Thu Mar 14 12:37:55 2024\n",
      "test1 1 printing 7 Thu Mar 14 12:37:56 2024\n",
      "test1 1 printing 8 Thu Mar 14 12:37:57 2024\n",
      "test1 1 printing 9 Thu Mar 14 12:37:58 2024\n"
     ]
    }
   ],
   "source": [
    "test1(1)"
   ]
  },
  {
   "cell_type": "code",
   "execution_count": 48,
   "id": "c74d93a7-18ac-4300-b5ce-67eefdc7b25f",
   "metadata": {
    "tags": []
   },
   "outputs": [],
   "source": [
    "thread=[threading.Thread(target=test1,args=(i,)) for i in range(1,4)]"
   ]
  },
  {
   "cell_type": "code",
   "execution_count": 49,
   "id": "b9fd52a2-e483-4459-92b9-69b065f51075",
   "metadata": {
    "tags": []
   },
   "outputs": [
    {
     "name": "stdout",
     "output_type": "stream",
     "text": [
      "test1 1 printing 0 Thu Mar 14 12:38:18 2024\n",
      "test1 2 printing 0 Thu Mar 14 12:38:18 2024\n",
      "test1 3 printing 0 Thu Mar 14 12:38:18 2024\n",
      "test1 2 printing 1 Thu Mar 14 12:38:19 2024\n",
      "test1 1 printing 1 Thu Mar 14 12:38:19 2024\n",
      "test1 3 printing 1 Thu Mar 14 12:38:19 2024\n",
      "test1 2 printing 2 Thu Mar 14 12:38:20 2024\n",
      "test1 3 printing 2 Thu Mar 14 12:38:20 2024\n",
      "test1 1 printing 2 Thu Mar 14 12:38:20 2024\n",
      "test1 2 printing 3 Thu Mar 14 12:38:21 2024\n",
      "test1 1 printing 3 Thu Mar 14 12:38:21 2024\n",
      "test1 3 printing 3 Thu Mar 14 12:38:21 2024\n",
      "test1 2 printing 4 Thu Mar 14 12:38:22 2024\n",
      "test1 1 printing 4 Thu Mar 14 12:38:22 2024\n",
      "test1 3 printing 4 Thu Mar 14 12:38:22 2024\n",
      "test1 2 printing 5 Thu Mar 14 12:38:23 2024\n",
      "test1 1 printing 5 Thu Mar 14 12:38:23 2024\n",
      "test1 3 printing 5 Thu Mar 14 12:38:23 2024\n",
      "test1 2 printing 6 Thu Mar 14 12:38:24 2024\n",
      "test1 3 printing 6 Thu Mar 14 12:38:24 2024\n",
      "test1 1 printing 6 Thu Mar 14 12:38:24 2024\n",
      "test1 2 printing 7 Thu Mar 14 12:38:25 2024\n",
      "test1 1 printing 7 Thu Mar 14 12:38:25 2024\n",
      "test1 3 printing 7 Thu Mar 14 12:38:25 2024\n",
      "test1 2 printing 8 Thu Mar 14 12:38:26 2024\n",
      "test1 1 printing 8 Thu Mar 14 12:38:26 2024\n",
      "test1 3 printing 8 Thu Mar 14 12:38:26 2024\n",
      "test1 2 printing 9 Thu Mar 14 12:38:27 2024\n",
      "test1 1 printing 9 Thu Mar 14 12:38:27 2024\n",
      "test1 3 printing 9 Thu Mar 14 12:38:27 2024\n"
     ]
    }
   ],
   "source": [
    "for t in thread:\n",
    "    t.start()"
   ]
  },
  {
   "cell_type": "code",
   "execution_count": 50,
   "id": "f5118c48-0d17-4c68-8b91-8e374cc2d315",
   "metadata": {
    "tags": []
   },
   "outputs": [],
   "source": [
    "shared_var=0\n",
    "lock_var=threading.Lock()"
   ]
  },
  {
   "cell_type": "code",
   "execution_count": 51,
   "id": "33be69d3-c500-4ba0-904b-3db2c78b8ec5",
   "metadata": {
    "tags": []
   },
   "outputs": [],
   "source": [
    "def test2(id):\n",
    "    global shared_var\n",
    "    with lock_var:\n",
    "        shared_var+=1\n",
    "        print('test2 id is %d has increased the shared variable by %d'%(id,shared_var))"
   ]
  },
  {
   "cell_type": "code",
   "execution_count": 52,
   "id": "81d07932-15d6-4cc0-b5b7-ca01ee411c0e",
   "metadata": {
    "tags": []
   },
   "outputs": [
    {
     "name": "stdout",
     "output_type": "stream",
     "text": [
      "test2 id is 0 has increased the shared variable by 1\n",
      "test2 id is 1 has increased the shared variable by 2\n",
      "test2 id is 2 has increased the shared variable by 3\n"
     ]
    }
   ],
   "source": [
    "thread=[threading.Thread(target=test2,args=(i,)) for i in range(3)]\n",
    "for t in thread:\n",
    "    t.start()"
   ]
  },
  {
   "cell_type": "code",
   "execution_count": null,
   "id": "bd4b3a07-3e30-4837-a132-2c7b36cf78ad",
   "metadata": {},
   "outputs": [],
   "source": []
  }
 ],
 "metadata": {
  "kernelspec": {
   "display_name": "Python 3 (ipykernel)",
   "language": "python",
   "name": "python3"
  },
  "language_info": {
   "codemirror_mode": {
    "name": "ipython",
    "version": 3
   },
   "file_extension": ".py",
   "mimetype": "text/x-python",
   "name": "python",
   "nbconvert_exporter": "python",
   "pygments_lexer": "ipython3",
   "version": "3.11.5"
  }
 },
 "nbformat": 4,
 "nbformat_minor": 5
}
