{
 "cells": [
  {
   "cell_type": "code",
   "execution_count": 8,
   "id": "79c884d5-2735-43d0-bd04-de3463a350da",
   "metadata": {
    "tags": []
   },
   "outputs": [],
   "source": [
    "import requests\n",
    "from bs4 import BeautifulSoup as bs\n",
    "from urllib.request import urlopen \n",
    "import logging"
   ]
  },
  {
   "cell_type": "code",
   "execution_count": 2,
   "id": "3b75897f-f2b4-4aaa-ad65-716f1ac69a14",
   "metadata": {
    "tags": []
   },
   "outputs": [],
   "source": [
    "flipkart_url='https://www.flipkart.com/search?q='+'iphone11'"
   ]
  },
  {
   "cell_type": "code",
   "execution_count": 3,
   "id": "f64c8b10-466c-480e-bfa1-be4baf131120",
   "metadata": {
    "tags": []
   },
   "outputs": [
    {
     "data": {
      "text/plain": [
       "'https://www.flipkart.com/search?q=iphone11'"
      ]
     },
     "execution_count": 3,
     "metadata": {},
     "output_type": "execute_result"
    }
   ],
   "source": [
    "flipkart_url"
   ]
  },
  {
   "cell_type": "code",
   "execution_count": 9,
   "id": "04873f64-df0d-4058-b113-819134a07222",
   "metadata": {
    "tags": []
   },
   "outputs": [],
   "source": [
    "urlClient=urlopen(flipkart_url)"
   ]
  },
  {
   "cell_type": "code",
   "execution_count": 10,
   "id": "d317ee64-9ab3-4ab2-adc6-23de52158344",
   "metadata": {
    "tags": []
   },
   "outputs": [
    {
     "data": {
      "text/plain": [
       "<http.client.HTTPResponse at 0x22dcc88d840>"
      ]
     },
     "execution_count": 10,
     "metadata": {},
     "output_type": "execute_result"
    }
   ],
   "source": [
    "urlClient"
   ]
  },
  {
   "cell_type": "code",
   "execution_count": 11,
   "id": "9eae953e-7ecc-469d-bd12-063ea706e697",
   "metadata": {
    "tags": []
   },
   "outputs": [],
   "source": [
    "urlhtml=urlClient.read()"
   ]
  },
  {
   "cell_type": "code",
   "execution_count": 14,
   "id": "b39255a5-9ad1-41b5-8987-535c61ed42e8",
   "metadata": {
    "tags": []
   },
   "outputs": [],
   "source": [
    "flipkart_html=bs(urlhtml,'html.parser')"
   ]
  },
  {
   "cell_type": "code",
   "execution_count": 16,
   "id": "fcade83c-2b84-49ea-9dc5-335781abc8db",
   "metadata": {
    "tags": []
   },
   "outputs": [],
   "source": [
    "url2='https://www.flipkart.com/'+'apple-iphone-15-blue-128-gb/p/itmbf14ef54f645d?pid=MOBGTAGPAQNVFZZY&lid=LSTMOBGTAGPAQNVFZZYO7HQ2L&marketplace=FLIPKART&q=iphone&store=tyy%2F4io&spotlightTagId=BestsellerId_tyy%2F4io&srno=s_1_1&otracker=search&otracker1=search&fm=Search&iid=ea2c24c2-6885-4220-a76c-404cd1fe0886.MOBGTAGPAQNVFZZY.SEARCH&ppt=sp&ppn=sp&ssid=sj6c4qbxio0000001710488635349&qH=0b3f45b266a97d70'"
   ]
  },
  {
   "cell_type": "code",
   "execution_count": 17,
   "id": "898d8e8d-ce86-42d0-b712-581a40dafaf1",
   "metadata": {
    "tags": []
   },
   "outputs": [
    {
     "data": {
      "text/plain": [
       "'https://www.flipkart.com/search?q=apple-iphone-15-blue-128-gb/p/itmbf14ef54f645d?pid=MOBGTAGPAQNVFZZY&lid=LSTMOBGTAGPAQNVFZZYO7HQ2L&marketplace=FLIPKART&q=iphone&store=tyy%2F4io&spotlightTagId=BestsellerId_tyy%2F4io&srno=s_1_1&otracker=search&otracker1=search&fm=Search&iid=ea2c24c2-6885-4220-a76c-404cd1fe0886.MOBGTAGPAQNVFZZY.SEARCH&ppt=sp&ppn=sp&ssid=sj6c4qbxio0000001710488635349&qH=0b3f45b266a97d70'"
      ]
     },
     "execution_count": 17,
     "metadata": {},
     "output_type": "execute_result"
    }
   ],
   "source": [
    "url2"
   ]
  },
  {
   "cell_type": "code",
   "execution_count": null,
   "id": "f2e8c189-f28e-420b-b5ad-ec12f564ad27",
   "metadata": {},
   "outputs": [],
   "source": []
  }
 ],
 "metadata": {
  "kernelspec": {
   "display_name": "Python 3 (ipykernel)",
   "language": "python",
   "name": "python3"
  },
  "language_info": {
   "codemirror_mode": {
    "name": "ipython",
    "version": 3
   },
   "file_extension": ".py",
   "mimetype": "text/x-python",
   "name": "python",
   "nbconvert_exporter": "python",
   "pygments_lexer": "ipython3",
   "version": "3.11.5"
  }
 },
 "nbformat": 4,
 "nbformat_minor": 5
}
