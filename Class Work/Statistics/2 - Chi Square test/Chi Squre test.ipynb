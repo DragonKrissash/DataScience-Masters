{
 "cells": [
  {
   "cell_type": "code",
   "execution_count": 13,
   "id": "bf00ac8f-f030-45fb-bca0-768347bdeac9",
   "metadata": {
    "tags": []
   },
   "outputs": [],
   "source": [
    "import scipy.stats as st\n",
    "import numpy as np"
   ]
  },
  {
   "cell_type": "code",
   "execution_count": 14,
   "id": "a0c6d8a5-0cd6-43cb-99db-4f66449e9706",
   "metadata": {
    "tags": []
   },
   "outputs": [],
   "source": [
    "expected=[8,6,7,9,6,9,7]\n",
    "observed=[7,8,6,9,9,6,7]"
   ]
  },
  {
   "cell_type": "code",
   "execution_count": 15,
   "id": "639be807-7c20-4bec-9aa8-abf39e0619cf",
   "metadata": {
    "tags": []
   },
   "outputs": [],
   "source": [
    "chi_score,p_val=st.chisquare(f_obs=observed,f_exp=expected)"
   ]
  },
  {
   "cell_type": "code",
   "execution_count": 16,
   "id": "574ea20a-418f-40c1-ab90-59021695cc39",
   "metadata": {
    "tags": []
   },
   "outputs": [
    {
     "data": {
      "text/plain": [
       "(3.4345238095238093, 0.7526596580922865)"
      ]
     },
     "execution_count": 16,
     "metadata": {},
     "output_type": "execute_result"
    }
   ],
   "source": [
    "chi_score,p_val"
   ]
  },
  {
   "cell_type": "code",
   "execution_count": 17,
   "id": "c207cc86-2dcb-460a-b0fc-5b06b237d839",
   "metadata": {
    "tags": []
   },
   "outputs": [],
   "source": [
    "sig_val=0.05\n",
    "dof=len(expected)-1\n",
    "cri_val=st.chi2.ppf(1-sig_val,dof)"
   ]
  },
  {
   "cell_type": "code",
   "execution_count": 18,
   "id": "7e9e9d1b-215b-4d07-8b00-4030fdbde65a",
   "metadata": {
    "tags": []
   },
   "outputs": [
    {
     "data": {
      "text/plain": [
       "12.591587243743977"
      ]
     },
     "execution_count": 18,
     "metadata": {},
     "output_type": "execute_result"
    }
   ],
   "source": [
    "cri_val"
   ]
  },
  {
   "cell_type": "code",
   "execution_count": 20,
   "id": "bbefb4f3-8594-497c-bc69-e9c11bf75183",
   "metadata": {
    "tags": []
   },
   "outputs": [
    {
     "name": "stdout",
     "output_type": "stream",
     "text": [
      "Accept the null\n"
     ]
    }
   ],
   "source": [
    "if chi_score>cri_val:\n",
    "    print('Reject the null')\n",
    "else:\n",
    "    print('Accept the null')"
   ]
  },
  {
   "cell_type": "code",
   "execution_count": null,
   "id": "a674bdc3-116d-474f-9d6e-3589db6a5e17",
   "metadata": {},
   "outputs": [],
   "source": []
  }
 ],
 "metadata": {
  "kernelspec": {
   "display_name": "Python 3 (ipykernel)",
   "language": "python",
   "name": "python3"
  },
  "language_info": {
   "codemirror_mode": {
    "name": "ipython",
    "version": 3
   },
   "file_extension": ".py",
   "mimetype": "text/x-python",
   "name": "python",
   "nbconvert_exporter": "python",
   "pygments_lexer": "ipython3",
   "version": "3.11.5"
  }
 },
 "nbformat": 4,
 "nbformat_minor": 5
}
