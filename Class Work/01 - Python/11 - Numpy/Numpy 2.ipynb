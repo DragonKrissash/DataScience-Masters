{
 "cells": [
  {
   "cell_type": "code",
   "execution_count": 1,
   "id": "4be6f36a-2170-49d7-a9f1-3b46331e7fcb",
   "metadata": {
    "tags": []
   },
   "outputs": [],
   "source": [
    "import numpy as np"
   ]
  },
  {
   "cell_type": "code",
   "execution_count": 9,
   "id": "1a04a96a-683b-40ea-af06-19067fa548d5",
   "metadata": {
    "tags": []
   },
   "outputs": [],
   "source": [
    "arr=np.random.randint(1,10,(3,4))"
   ]
  },
  {
   "cell_type": "code",
   "execution_count": 12,
   "id": "ce81c71c-81ed-49ef-aa4b-d23f1e4d077c",
   "metadata": {
    "tags": []
   },
   "outputs": [
    {
     "data": {
      "text/plain": [
       "array([[7, 8, 4, 3],\n",
       "       [5, 6, 2, 6],\n",
       "       [4, 2, 8, 8]])"
      ]
     },
     "execution_count": 12,
     "metadata": {},
     "output_type": "execute_result"
    }
   ],
   "source": [
    "arr"
   ]
  },
  {
   "cell_type": "code",
   "execution_count": 13,
   "id": "9d7e0207-3995-4a1a-ba1a-bb3d24ad7d44",
   "metadata": {
    "tags": []
   },
   "outputs": [
    {
     "data": {
      "text/plain": [
       "array([[7, 8, 4, 3, 5, 6],\n",
       "       [2, 6, 4, 2, 8, 8]])"
      ]
     },
     "execution_count": 13,
     "metadata": {},
     "output_type": "execute_result"
    }
   ],
   "source": [
    "arr.reshape(2,-232)"
   ]
  },
  {
   "cell_type": "code",
   "execution_count": 14,
   "id": "6af13421-ef60-45de-85b4-fc4ec291ea99",
   "metadata": {
    "tags": []
   },
   "outputs": [
    {
     "data": {
      "text/plain": [
       "array([[7, 5, 4],\n",
       "       [8, 6, 2],\n",
       "       [4, 2, 8],\n",
       "       [3, 6, 8]])"
      ]
     },
     "execution_count": 14,
     "metadata": {},
     "output_type": "execute_result"
    }
   ],
   "source": [
    "arr.T"
   ]
  },
  {
   "cell_type": "code",
   "execution_count": 15,
   "id": "4a866a16-2234-4e26-a373-fb001f36532b",
   "metadata": {
    "tags": []
   },
   "outputs": [
    {
     "data": {
      "text/plain": [
       "array([7, 8, 4, 3, 5, 6, 2, 6, 4, 2, 8, 8])"
      ]
     },
     "execution_count": 15,
     "metadata": {},
     "output_type": "execute_result"
    }
   ],
   "source": [
    "arr.flatten()"
   ]
  },
  {
   "cell_type": "code",
   "execution_count": 16,
   "id": "43e94aea-e398-4997-a627-b40a165153ee",
   "metadata": {
    "tags": []
   },
   "outputs": [],
   "source": [
    "arr1=np.array([1,2,3,4])"
   ]
  },
  {
   "cell_type": "code",
   "execution_count": 17,
   "id": "feeb0266-5c4a-43e4-a4a8-440fb4a2c421",
   "metadata": {
    "tags": []
   },
   "outputs": [
    {
     "data": {
      "text/plain": [
       "1"
      ]
     },
     "execution_count": 17,
     "metadata": {},
     "output_type": "execute_result"
    }
   ],
   "source": [
    "arr1.ndim"
   ]
  },
  {
   "cell_type": "code",
   "execution_count": 23,
   "id": "ad499ff9-6071-426b-9b8a-31424e440ec7",
   "metadata": {
    "tags": []
   },
   "outputs": [
    {
     "data": {
      "text/plain": [
       "array([[1, 2, 3, 4]])"
      ]
     },
     "execution_count": 23,
     "metadata": {},
     "output_type": "execute_result"
    }
   ],
   "source": [
    "np.expand_dims(arr1,axis=0)"
   ]
  },
  {
   "cell_type": "code",
   "execution_count": 24,
   "id": "4d273959-78dd-4069-8e16-7203765d1190",
   "metadata": {
    "tags": []
   },
   "outputs": [
    {
     "data": {
      "text/plain": [
       "array([[7, 8, 4, 3],\n",
       "       [5, 6, 2, 6],\n",
       "       [4, 2, 8, 8]])"
      ]
     },
     "execution_count": 24,
     "metadata": {},
     "output_type": "execute_result"
    }
   ],
   "source": [
    "arr"
   ]
  },
  {
   "cell_type": "code",
   "execution_count": 25,
   "id": "204f0d15-942d-4b93-a60e-2d926ba64b3e",
   "metadata": {
    "tags": []
   },
   "outputs": [
    {
     "data": {
      "text/plain": [
       "array([[7, 8, 4, 3],\n",
       "       [5, 6, 2, 6],\n",
       "       [4, 2, 8, 8]])"
      ]
     },
     "execution_count": 25,
     "metadata": {},
     "output_type": "execute_result"
    }
   ],
   "source": [
    "np.squeeze(arr)"
   ]
  },
  {
   "cell_type": "code",
   "execution_count": 27,
   "id": "01e26d91-61dd-43dd-ae3f-56e6436b2d40",
   "metadata": {
    "tags": []
   },
   "outputs": [],
   "source": [
    "data=np.array([[1],[2],[3]])"
   ]
  },
  {
   "cell_type": "code",
   "execution_count": 28,
   "id": "e49ad3ee-9033-44cf-9edc-62efa870a8ff",
   "metadata": {
    "tags": []
   },
   "outputs": [
    {
     "data": {
      "text/plain": [
       "array([1, 2, 3])"
      ]
     },
     "execution_count": 28,
     "metadata": {},
     "output_type": "execute_result"
    }
   ],
   "source": [
    "np.squeeze(data)"
   ]
  },
  {
   "cell_type": "code",
   "execution_count": 29,
   "id": "55cd23b5-4036-457e-8e2b-efc873a43b93",
   "metadata": {
    "tags": []
   },
   "outputs": [
    {
     "data": {
      "text/plain": [
       "array([1, 2, 3, 4])"
      ]
     },
     "execution_count": 29,
     "metadata": {},
     "output_type": "execute_result"
    }
   ],
   "source": [
    "arr1"
   ]
  },
  {
   "cell_type": "code",
   "execution_count": 30,
   "id": "68521c3c-3930-4a1d-9894-b0e6d041e99b",
   "metadata": {
    "tags": []
   },
   "outputs": [
    {
     "data": {
      "text/plain": [
       "array([1, 1, 1, 2, 2, 2, 3, 3, 3, 4, 4, 4])"
      ]
     },
     "execution_count": 30,
     "metadata": {},
     "output_type": "execute_result"
    }
   ],
   "source": [
    "np.repeat(arr1,3)"
   ]
  },
  {
   "cell_type": "code",
   "execution_count": 31,
   "id": "1fe7dfc6-5392-4708-8b9d-9d576bad2954",
   "metadata": {
    "tags": []
   },
   "outputs": [
    {
     "data": {
      "text/plain": [
       "array([3, 4, 1, 2])"
      ]
     },
     "execution_count": 31,
     "metadata": {},
     "output_type": "execute_result"
    }
   ],
   "source": [
    "np.roll(arr1,2)"
   ]
  },
  {
   "cell_type": "code",
   "execution_count": 32,
   "id": "c12db3d9-a46c-4088-bc88-6cf41d36ac0f",
   "metadata": {
    "tags": []
   },
   "outputs": [
    {
     "data": {
      "text/plain": [
       "array([[1, 0, 0, 0],\n",
       "       [0, 2, 0, 0],\n",
       "       [0, 0, 3, 0],\n",
       "       [0, 0, 0, 4]])"
      ]
     },
     "execution_count": 32,
     "metadata": {},
     "output_type": "execute_result"
    }
   ],
   "source": [
    "np.diag(arr1)"
   ]
  },
  {
   "cell_type": "code",
   "execution_count": 33,
   "id": "ec8f36e4-3902-4385-88c4-a54c3f24881d",
   "metadata": {
    "tags": []
   },
   "outputs": [],
   "source": [
    "arr1=np.random.randint(1,10,(3,3))"
   ]
  },
  {
   "cell_type": "code",
   "execution_count": 34,
   "id": "0f142822-7210-4945-82e0-1ed253f78af0",
   "metadata": {
    "tags": []
   },
   "outputs": [],
   "source": [
    "arr2=np.random.randint(1,10,(3,3))"
   ]
  },
  {
   "cell_type": "code",
   "execution_count": 35,
   "id": "4c1b9f8e-f649-4272-8de4-513527b6afb3",
   "metadata": {
    "tags": []
   },
   "outputs": [
    {
     "data": {
      "text/plain": [
       "array([[1, 1, 4],\n",
       "       [3, 7, 1],\n",
       "       [4, 6, 7]])"
      ]
     },
     "execution_count": 35,
     "metadata": {},
     "output_type": "execute_result"
    }
   ],
   "source": [
    "arr2"
   ]
  },
  {
   "cell_type": "code",
   "execution_count": 36,
   "id": "dea97714-8e98-4b58-bcdf-a1b05d3eddb7",
   "metadata": {
    "tags": []
   },
   "outputs": [
    {
     "data": {
      "text/plain": [
       "array([[ 4,  8,  7],\n",
       "       [ 9, 16,  9],\n",
       "       [10,  9, 10]])"
      ]
     },
     "execution_count": 36,
     "metadata": {},
     "output_type": "execute_result"
    }
   ],
   "source": [
    "arr1+arr2"
   ]
  },
  {
   "cell_type": "code",
   "execution_count": 39,
   "id": "e1a95b0c-e32f-467f-9078-503a64004aab",
   "metadata": {
    "tags": []
   },
   "outputs": [
    {
     "data": {
      "text/plain": [
       "array([[3, 7, 3],\n",
       "       [6, 9, 8],\n",
       "       [6, 3, 3]])"
      ]
     },
     "execution_count": 39,
     "metadata": {},
     "output_type": "execute_result"
    }
   ],
   "source": [
    "arr1"
   ]
  },
  {
   "cell_type": "code",
   "execution_count": 40,
   "id": "8f84eb3c-b562-4ddd-8da7-6a849dc87357",
   "metadata": {
    "tags": []
   },
   "outputs": [
    {
     "data": {
      "text/plain": [
       "array([[ -4,  -8,  -4],\n",
       "       [ -7, -10,  -9],\n",
       "       [ -7,  -4,  -4]])"
      ]
     },
     "execution_count": 40,
     "metadata": {},
     "output_type": "execute_result"
    }
   ],
   "source": [
    "~arr1"
   ]
  },
  {
   "cell_type": "code",
   "execution_count": 41,
   "id": "5c7d31ba-7f44-4f1a-8fc7-897d3f297d72",
   "metadata": {
    "tags": []
   },
   "outputs": [
    {
     "data": {
      "text/plain": [
       "array([[ 3,  7,  7],\n",
       "       [ 7, 15,  9],\n",
       "       [ 6,  7,  7]])"
      ]
     },
     "execution_count": 41,
     "metadata": {},
     "output_type": "execute_result"
    }
   ],
   "source": [
    "arr1|arr2"
   ]
  },
  {
   "cell_type": "code",
   "execution_count": 42,
   "id": "f145fd19-9059-4c1e-982b-9ac6dc9a3618",
   "metadata": {
    "tags": []
   },
   "outputs": [],
   "source": [
    "arr=np.array(['sudh','kumar'])"
   ]
  },
  {
   "cell_type": "code",
   "execution_count": 43,
   "id": "367e4372-94be-4447-b9fd-77951900836e",
   "metadata": {
    "tags": []
   },
   "outputs": [
    {
     "data": {
      "text/plain": [
       "array(['sudh', 'kumar'], dtype='<U5')"
      ]
     },
     "execution_count": 43,
     "metadata": {},
     "output_type": "execute_result"
    }
   ],
   "source": [
    "arr"
   ]
  },
  {
   "cell_type": "code",
   "execution_count": 44,
   "id": "ff637e8c-44a5-4646-b561-76271b551843",
   "metadata": {
    "tags": []
   },
   "outputs": [
    {
     "data": {
      "text/plain": [
       "array(['SUDH', 'KUMAR'], dtype='<U5')"
      ]
     },
     "execution_count": 44,
     "metadata": {},
     "output_type": "execute_result"
    }
   ],
   "source": [
    "np.char.upper(arr)"
   ]
  },
  {
   "cell_type": "code",
   "execution_count": 46,
   "id": "bda1a047-abb7-4df8-bcfb-62c4e3a53ce3",
   "metadata": {
    "tags": []
   },
   "outputs": [
    {
     "data": {
      "text/plain": [
       "array([[ 0.14112001,  0.6569866 ,  0.14112001],\n",
       "       [-0.2794155 ,  0.41211849,  0.98935825],\n",
       "       [-0.2794155 ,  0.14112001,  0.14112001]])"
      ]
     },
     "execution_count": 46,
     "metadata": {},
     "output_type": "execute_result"
    }
   ],
   "source": [
    "np.sin(arr1)"
   ]
  },
  {
   "cell_type": "code",
   "execution_count": null,
   "id": "0fb4a145-2b4d-40f7-9c4a-c76a6dd50b41",
   "metadata": {},
   "outputs": [],
   "source": []
  }
 ],
 "metadata": {
  "kernelspec": {
   "display_name": "Python 3 (ipykernel)",
   "language": "python",
   "name": "python3"
  },
  "language_info": {
   "codemirror_mode": {
    "name": "ipython",
    "version": 3
   },
   "file_extension": ".py",
   "mimetype": "text/x-python",
   "name": "python",
   "nbconvert_exporter": "python",
   "pygments_lexer": "ipython3",
   "version": "3.11.5"
  }
 },
 "nbformat": 4,
 "nbformat_minor": 5
}
