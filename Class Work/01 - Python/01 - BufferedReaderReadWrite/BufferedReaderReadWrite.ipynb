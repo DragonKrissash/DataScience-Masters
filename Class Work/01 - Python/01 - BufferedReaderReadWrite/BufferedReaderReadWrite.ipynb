{
 "cells": [
  {
   "cell_type": "code",
   "execution_count": 1,
   "id": "46c2946a-7908-4f04-88e6-e1a80523d1e0",
   "metadata": {
    "tags": []
   },
   "outputs": [],
   "source": [
    "import io"
   ]
  },
  {
   "cell_type": "code",
   "execution_count": 4,
   "id": "75463daa-8b40-45bd-87c4-1aa925140033",
   "metadata": {
    "tags": []
   },
   "outputs": [],
   "source": [
    "with open('test1.txt','wb') as f:\n",
    "    file=io.BufferedWriter(f)\n",
    "    file.write(b'This is my first line')\n",
    "    file.write(b\"This is my second line\")\n",
    "    file.flush()"
   ]
  },
  {
   "cell_type": "code",
   "execution_count": 5,
   "id": "f674913d-d5fd-4c22-b87c-42eacce09552",
   "metadata": {
    "tags": []
   },
   "outputs": [
    {
     "name": "stdout",
     "output_type": "stream",
     "text": [
      "b'This is my first lineThis is my second line'\n"
     ]
    }
   ],
   "source": [
    "with open('test1.txt','rb') as f:\n",
    "    file=io.BufferedReader(f)\n",
    "    print(file.read())"
   ]
  },
  {
   "cell_type": "code",
   "execution_count": null,
   "id": "78c210ec-2bb1-4b43-a2c8-771b35d5f517",
   "metadata": {},
   "outputs": [],
   "source": []
  }
 ],
 "metadata": {
  "kernelspec": {
   "display_name": "Python 3 (ipykernel)",
   "language": "python",
   "name": "python3"
  },
  "language_info": {
   "codemirror_mode": {
    "name": "ipython",
    "version": 3
   },
   "file_extension": ".py",
   "mimetype": "text/x-python",
   "name": "python",
   "nbconvert_exporter": "python",
   "pygments_lexer": "ipython3",
   "version": "3.11.5"
  }
 },
 "nbformat": 4,
 "nbformat_minor": 5
}
