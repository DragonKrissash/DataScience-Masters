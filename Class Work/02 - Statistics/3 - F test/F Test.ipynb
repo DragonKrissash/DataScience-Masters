{
 "cells": [
  {
   "cell_type": "code",
   "execution_count": 1,
   "id": "72b32d9a-78af-41f1-9735-964ef02c1899",
   "metadata": {
    "tags": []
   },
   "outputs": [],
   "source": [
    "w1=[18,19,22,25,27,28,41,45,51,55]\n",
    "w2=[14,15,15,17,18,22,25,25,27,34]"
   ]
  },
  {
   "cell_type": "code",
   "execution_count": 2,
   "id": "a2086934-2de2-456d-a8a3-a87e945f2376",
   "metadata": {
    "tags": []
   },
   "outputs": [],
   "source": [
    "import numpy as np\n",
    "f_test=np.var(w1)/np.var(w2)"
   ]
  },
  {
   "cell_type": "code",
   "execution_count": 3,
   "id": "f61bd389-4c47-40cd-be34-e1132a2992ee",
   "metadata": {
    "tags": []
   },
   "outputs": [
    {
     "data": {
      "text/plain": [
       "4.387122002085506"
      ]
     },
     "execution_count": 3,
     "metadata": {},
     "output_type": "execute_result"
    }
   ],
   "source": [
    "f_test"
   ]
  },
  {
   "cell_type": "code",
   "execution_count": 6,
   "id": "85eea419-23cd-4e8b-8db0-ab1b0b7ad454",
   "metadata": {
    "tags": []
   },
   "outputs": [],
   "source": [
    "df1=len(w1)-1\n",
    "df2=len(w2)-1\n",
    "sig=0.05"
   ]
  },
  {
   "cell_type": "code",
   "execution_count": 5,
   "id": "8c35ad86-5bef-457c-a656-70eb7a720142",
   "metadata": {
    "tags": []
   },
   "outputs": [],
   "source": [
    "import scipy.stats as st"
   ]
  },
  {
   "cell_type": "code",
   "execution_count": 9,
   "id": "4573b6b0-d42d-491f-8460-88ad01d28d91",
   "metadata": {
    "tags": []
   },
   "outputs": [],
   "source": [
    "cri_val=st.f.ppf(q=1-sig,dfn=df1,dfd=df2)"
   ]
  },
  {
   "cell_type": "code",
   "execution_count": 10,
   "id": "e50fd27e-d6b7-4b77-832f-04b34342e926",
   "metadata": {
    "tags": []
   },
   "outputs": [
    {
     "data": {
      "text/plain": [
       "3.178893104458269"
      ]
     },
     "execution_count": 10,
     "metadata": {},
     "output_type": "execute_result"
    }
   ],
   "source": [
    "cri_val"
   ]
  },
  {
   "cell_type": "code",
   "execution_count": 12,
   "id": "e368a1f7-c34b-424f-b606-a3c173499bbe",
   "metadata": {
    "tags": []
   },
   "outputs": [
    {
     "name": "stdout",
     "output_type": "stream",
     "text": [
      "Reject the null hypothesis\n"
     ]
    }
   ],
   "source": [
    "if f_test>cri_val:\n",
    "    print('Reject the null hypothesis')\n",
    "else:\n",
    "    print('We fail to reject the null hypothesis')\n"
   ]
  },
  {
   "cell_type": "code",
   "execution_count": null,
   "id": "2c17b2d2-5f61-4e57-afe6-4f6cc3e403ed",
   "metadata": {},
   "outputs": [],
   "source": []
  }
 ],
 "metadata": {
  "kernelspec": {
   "display_name": "Python 3 (ipykernel)",
   "language": "python",
   "name": "python3"
  },
  "language_info": {
   "codemirror_mode": {
    "name": "ipython",
    "version": 3
   },
   "file_extension": ".py",
   "mimetype": "text/x-python",
   "name": "python",
   "nbconvert_exporter": "python",
   "pygments_lexer": "ipython3",
   "version": "3.11.5"
  }
 },
 "nbformat": 4,
 "nbformat_minor": 5
}
