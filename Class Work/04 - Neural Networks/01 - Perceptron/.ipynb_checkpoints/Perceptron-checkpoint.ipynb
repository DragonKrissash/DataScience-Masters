{
 "cells": [
  {
   "cell_type": "code",
   "execution_count": 1,
   "id": "9a83a20f-15a4-4196-84cc-a051c59a08e8",
   "metadata": {
    "tags": []
   },
   "outputs": [],
   "source": [
    "import numpy as np\n",
    "import pandas as pd\n",
    "import matplotlib.pyplot as plt\n",
    "import joblib"
   ]
  },
  {
   "cell_type": "code",
   "execution_count": 3,
   "id": "b6fd0445-96ec-436d-84c3-02e7183c863d",
   "metadata": {
    "tags": []
   },
   "outputs": [],
   "source": [
    "class Perceptron:\n",
    "    def __init__(self,eta,epochs):\n",
    "        self.weights=np.random.randn(3) * 1e-4\n",
    "        print(f'self.weights: {self.weights}')\n",
    "        self.eta=eta\n",
    "        self.epochs=epochs\n",
    "        \n",
    "    def activation_function(self,inputs,weights):\n",
    "        z=np.dot(inputs,weights)\n",
    "        return np.where(z>0,1,0)\n",
    "    \n",
    "    def fit(self,X,y):\n",
    "        self.X=X\n",
    "        self.y=y\n",
    "        \n",
    "        X_with_bias=np.c_[self.X,-np.ones((len(self.X),1))]\n",
    "        print(f'X_with_bias: \\n{X_with_bias}')\n",
    "    \n",
    "        for epoch in range(self.epochs):\n",
    "            print(f'for epoch: {epoch}')\n",
    "            y_hat=self.activation_function(X_with_bias,self.weights)\n",
    "            print(f'predicted value: \\n{y_hat}')\n",
    "            error=self.y - y_hat\n",
    "            print(f'error: {error}')\n",
    "            self.weights=self.weights+self.eta*np.dot(X_with_bias.T,error)\n",
    "            print(f'updated weights: \\n{self.weights}')\n",
    "            \n",
    "    def predict(self,X):\n",
    "        X_with_bias=np.c_[X,-np.ones((len(self.X),1))]\n",
    "        return self.activation_function(X_with_bias,self.weights)"
   ]
  },
  {
   "cell_type": "code",
   "execution_count": null,
   "id": "6c27a5fb-70c1-4937-8510-debec2e4776e",
   "metadata": {},
   "outputs": [],
   "source": []
  }
 ],
 "metadata": {
  "kernelspec": {
   "display_name": "Python 3 (ipykernel)",
   "language": "python",
   "name": "python3"
  },
  "language_info": {
   "codemirror_mode": {
    "name": "ipython",
    "version": 3
   },
   "file_extension": ".py",
   "mimetype": "text/x-python",
   "name": "python",
   "nbconvert_exporter": "python",
   "pygments_lexer": "ipython3",
   "version": "3.11.5"
  }
 },
 "nbformat": 4,
 "nbformat_minor": 5
}
