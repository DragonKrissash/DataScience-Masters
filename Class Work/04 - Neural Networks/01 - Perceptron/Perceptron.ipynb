{
 "cells": [
  {
   "cell_type": "code",
   "execution_count": 1,
   "id": "9a83a20f-15a4-4196-84cc-a051c59a08e8",
   "metadata": {
    "tags": []
   },
   "outputs": [],
   "source": [
    "import numpy as np\n",
    "import pandas as pd\n",
    "import matplotlib.pyplot as plt\n",
    "import joblib"
   ]
  },
  {
   "cell_type": "code",
   "execution_count": 57,
   "id": "b6fd0445-96ec-436d-84c3-02e7183c863d",
   "metadata": {
    "tags": []
   },
   "outputs": [],
   "source": [
    "class Perceptron:\n",
    "    def __init__(self,eta,epochs):\n",
    "        self.weights=np.random.randn(3) * 1e-4\n",
    "        print(f'self.weights: {self.weights}')\n",
    "        self.eta=eta\n",
    "        self.epochs=epochs\n",
    "        \n",
    "    def activation_function(self,inputs,weights):\n",
    "        z=np.dot(inputs,weights)\n",
    "        return np.where(z>0,1,0)\n",
    "    \n",
    "    def fit(self,X,y):\n",
    "        self.X=X\n",
    "        self.y=y\n",
    "        \n",
    "        X_with_bias=np.c_[self.X,-np.ones((len(self.X),1))]\n",
    "        print(f'X_with_bias: \\n{X_with_bias}')\n",
    "    \n",
    "        for epoch in range(self.epochs):\n",
    "            print(f'for epoch: {epoch}')\n",
    "            y_hat=self.activation_function(X_with_bias,self.weights)\n",
    "            print(f'predicted value: \\n{y_hat}')\n",
    "            error=self.y - y_hat\n",
    "            print(f'error: \\n{error}')\n",
    "            self.weights=self.weights+self.eta*np.dot(X_with_bias.T,error)\n",
    "            print(f'updated weights: \\n{self.weights}')\n",
    "            \n",
    "    def predict(self,X):\n",
    "        X_with_bias=np.c_[X,-np.ones((len(self.X),1))]\n",
    "        return self.activation_function(X_with_bias,self.weights)"
   ]
  },
  {
   "cell_type": "code",
   "execution_count": 46,
   "id": "ad1f485d-88ba-45f0-bbfb-d3990678c98d",
   "metadata": {
    "tags": []
   },
   "outputs": [],
   "source": [
    "data={'x1':[0,0,1,1],'x2':[0,1,0,1],'y':[0,0,0,1]}"
   ]
  },
  {
   "cell_type": "code",
   "execution_count": 47,
   "id": "7ed32b71-5d3e-4b88-bdea-16d7afb4b129",
   "metadata": {
    "tags": []
   },
   "outputs": [],
   "source": [
    "AND = pd.DataFrame(data)"
   ]
  },
  {
   "cell_type": "code",
   "execution_count": 48,
   "id": "cd2ad63e-7d8d-4a14-86c0-0e73cc3ac8ac",
   "metadata": {
    "tags": []
   },
   "outputs": [
    {
     "data": {
      "text/html": [
       "<div>\n",
       "<style scoped>\n",
       "    .dataframe tbody tr th:only-of-type {\n",
       "        vertical-align: middle;\n",
       "    }\n",
       "\n",
       "    .dataframe tbody tr th {\n",
       "        vertical-align: top;\n",
       "    }\n",
       "\n",
       "    .dataframe thead th {\n",
       "        text-align: right;\n",
       "    }\n",
       "</style>\n",
       "<table border=\"1\" class=\"dataframe\">\n",
       "  <thead>\n",
       "    <tr style=\"text-align: right;\">\n",
       "      <th></th>\n",
       "      <th>x1</th>\n",
       "      <th>x2</th>\n",
       "      <th>y</th>\n",
       "    </tr>\n",
       "  </thead>\n",
       "  <tbody>\n",
       "    <tr>\n",
       "      <th>0</th>\n",
       "      <td>0</td>\n",
       "      <td>0</td>\n",
       "      <td>0</td>\n",
       "    </tr>\n",
       "    <tr>\n",
       "      <th>1</th>\n",
       "      <td>0</td>\n",
       "      <td>1</td>\n",
       "      <td>0</td>\n",
       "    </tr>\n",
       "    <tr>\n",
       "      <th>2</th>\n",
       "      <td>1</td>\n",
       "      <td>0</td>\n",
       "      <td>0</td>\n",
       "    </tr>\n",
       "    <tr>\n",
       "      <th>3</th>\n",
       "      <td>1</td>\n",
       "      <td>1</td>\n",
       "      <td>1</td>\n",
       "    </tr>\n",
       "  </tbody>\n",
       "</table>\n",
       "</div>"
      ],
      "text/plain": [
       "   x1  x2  y\n",
       "0   0   0  0\n",
       "1   0   1  0\n",
       "2   1   0  0\n",
       "3   1   1  1"
      ]
     },
     "execution_count": 48,
     "metadata": {},
     "output_type": "execute_result"
    }
   ],
   "source": [
    "AND"
   ]
  },
  {
   "cell_type": "code",
   "execution_count": 49,
   "id": "c7c5e1bb-2651-46de-acfa-b000b6842e89",
   "metadata": {
    "tags": []
   },
   "outputs": [],
   "source": [
    "X=AND.drop('y',axis=1)"
   ]
  },
  {
   "cell_type": "code",
   "execution_count": 52,
   "id": "4977a94e-3cab-4a5b-94bc-f7f4b95b83e0",
   "metadata": {
    "tags": []
   },
   "outputs": [
    {
     "data": {
      "text/html": [
       "<div>\n",
       "<style scoped>\n",
       "    .dataframe tbody tr th:only-of-type {\n",
       "        vertical-align: middle;\n",
       "    }\n",
       "\n",
       "    .dataframe tbody tr th {\n",
       "        vertical-align: top;\n",
       "    }\n",
       "\n",
       "    .dataframe thead th {\n",
       "        text-align: right;\n",
       "    }\n",
       "</style>\n",
       "<table border=\"1\" class=\"dataframe\">\n",
       "  <thead>\n",
       "    <tr style=\"text-align: right;\">\n",
       "      <th></th>\n",
       "      <th>y</th>\n",
       "    </tr>\n",
       "  </thead>\n",
       "  <tbody>\n",
       "    <tr>\n",
       "      <th>0</th>\n",
       "      <td>0</td>\n",
       "    </tr>\n",
       "    <tr>\n",
       "      <th>1</th>\n",
       "      <td>0</td>\n",
       "    </tr>\n",
       "    <tr>\n",
       "      <th>2</th>\n",
       "      <td>0</td>\n",
       "    </tr>\n",
       "    <tr>\n",
       "      <th>3</th>\n",
       "      <td>1</td>\n",
       "    </tr>\n",
       "  </tbody>\n",
       "</table>\n",
       "</div>"
      ],
      "text/plain": [
       "   y\n",
       "0  0\n",
       "1  0\n",
       "2  0\n",
       "3  1"
      ]
     },
     "execution_count": 52,
     "metadata": {},
     "output_type": "execute_result"
    }
   ],
   "source": [
    "y=AND['y']\n",
    "y.to_frame()"
   ]
  },
  {
   "cell_type": "code",
   "execution_count": 53,
   "id": "8a106e08-3328-4295-9adc-aa19be02c8f5",
   "metadata": {
    "tags": []
   },
   "outputs": [
    {
     "data": {
      "text/html": [
       "<div>\n",
       "<style scoped>\n",
       "    .dataframe tbody tr th:only-of-type {\n",
       "        vertical-align: middle;\n",
       "    }\n",
       "\n",
       "    .dataframe tbody tr th {\n",
       "        vertical-align: top;\n",
       "    }\n",
       "\n",
       "    .dataframe thead th {\n",
       "        text-align: right;\n",
       "    }\n",
       "</style>\n",
       "<table border=\"1\" class=\"dataframe\">\n",
       "  <thead>\n",
       "    <tr style=\"text-align: right;\">\n",
       "      <th></th>\n",
       "      <th>x1</th>\n",
       "      <th>x2</th>\n",
       "    </tr>\n",
       "  </thead>\n",
       "  <tbody>\n",
       "    <tr>\n",
       "      <th>0</th>\n",
       "      <td>0</td>\n",
       "      <td>0</td>\n",
       "    </tr>\n",
       "    <tr>\n",
       "      <th>1</th>\n",
       "      <td>0</td>\n",
       "      <td>1</td>\n",
       "    </tr>\n",
       "    <tr>\n",
       "      <th>2</th>\n",
       "      <td>1</td>\n",
       "      <td>0</td>\n",
       "    </tr>\n",
       "    <tr>\n",
       "      <th>3</th>\n",
       "      <td>1</td>\n",
       "      <td>1</td>\n",
       "    </tr>\n",
       "  </tbody>\n",
       "</table>\n",
       "</div>"
      ],
      "text/plain": [
       "   x1  x2\n",
       "0   0   0\n",
       "1   0   1\n",
       "2   1   0\n",
       "3   1   1"
      ]
     },
     "execution_count": 53,
     "metadata": {},
     "output_type": "execute_result"
    }
   ],
   "source": [
    "X"
   ]
  },
  {
   "cell_type": "code",
   "execution_count": 54,
   "id": "215c76fb-0e90-40ca-be47-940fbef5462b",
   "metadata": {
    "tags": []
   },
   "outputs": [
    {
     "data": {
      "text/plain": [
       "0    0\n",
       "1    0\n",
       "2    0\n",
       "3    1\n",
       "Name: y, dtype: int64"
      ]
     },
     "execution_count": 54,
     "metadata": {},
     "output_type": "execute_result"
    }
   ],
   "source": [
    "y"
   ]
  },
  {
   "cell_type": "code",
   "execution_count": 58,
   "id": "db787d7a-a3b0-472e-8604-7c9ccef34a9e",
   "metadata": {
    "tags": []
   },
   "outputs": [
    {
     "name": "stdout",
     "output_type": "stream",
     "text": [
      "self.weights: [ 7.53499866e-06 -5.44150182e-05  1.19774134e-04]\n"
     ]
    }
   ],
   "source": [
    "model=Perceptron(eta=0.5,epochs=10)"
   ]
  },
  {
   "cell_type": "code",
   "execution_count": 59,
   "id": "c4a8c852-0918-44c2-930a-4543f630f5c0",
   "metadata": {
    "tags": []
   },
   "outputs": [
    {
     "name": "stdout",
     "output_type": "stream",
     "text": [
      "X_with_bias: \n",
      "[[ 0.  0. -1.]\n",
      " [ 0.  1. -1.]\n",
      " [ 1.  0. -1.]\n",
      " [ 1.  1. -1.]]\n",
      "for epoch: 0\n",
      "predicted value: \n",
      "[0 0 0 0]\n",
      "error: \n",
      "0    0\n",
      "1    0\n",
      "2    0\n",
      "3    1\n",
      "Name: y, dtype: int64\n",
      "updated weights: \n",
      "[ 0.50000753  0.49994558 -0.49988023]\n",
      "for epoch: 1\n",
      "predicted value: \n",
      "[1 1 1 1]\n",
      "error: \n",
      "0   -1\n",
      "1   -1\n",
      "2   -1\n",
      "3    0\n",
      "Name: y, dtype: int64\n",
      "updated weights: \n",
      "[ 7.53499866e-06 -5.44150182e-05  1.00011977e+00]\n",
      "for epoch: 2\n",
      "predicted value: \n",
      "[0 0 0 0]\n",
      "error: \n",
      "0    0\n",
      "1    0\n",
      "2    0\n",
      "3    1\n",
      "Name: y, dtype: int64\n",
      "updated weights: \n",
      "[0.50000753 0.49994558 0.50011977]\n",
      "for epoch: 3\n",
      "predicted value: \n",
      "[0 0 0 1]\n",
      "error: \n",
      "0    0\n",
      "1    0\n",
      "2    0\n",
      "3    0\n",
      "Name: y, dtype: int64\n",
      "updated weights: \n",
      "[0.50000753 0.49994558 0.50011977]\n",
      "for epoch: 4\n",
      "predicted value: \n",
      "[0 0 0 1]\n",
      "error: \n",
      "0    0\n",
      "1    0\n",
      "2    0\n",
      "3    0\n",
      "Name: y, dtype: int64\n",
      "updated weights: \n",
      "[0.50000753 0.49994558 0.50011977]\n",
      "for epoch: 5\n",
      "predicted value: \n",
      "[0 0 0 1]\n",
      "error: \n",
      "0    0\n",
      "1    0\n",
      "2    0\n",
      "3    0\n",
      "Name: y, dtype: int64\n",
      "updated weights: \n",
      "[0.50000753 0.49994558 0.50011977]\n",
      "for epoch: 6\n",
      "predicted value: \n",
      "[0 0 0 1]\n",
      "error: \n",
      "0    0\n",
      "1    0\n",
      "2    0\n",
      "3    0\n",
      "Name: y, dtype: int64\n",
      "updated weights: \n",
      "[0.50000753 0.49994558 0.50011977]\n",
      "for epoch: 7\n",
      "predicted value: \n",
      "[0 0 0 1]\n",
      "error: \n",
      "0    0\n",
      "1    0\n",
      "2    0\n",
      "3    0\n",
      "Name: y, dtype: int64\n",
      "updated weights: \n",
      "[0.50000753 0.49994558 0.50011977]\n",
      "for epoch: 8\n",
      "predicted value: \n",
      "[0 0 0 1]\n",
      "error: \n",
      "0    0\n",
      "1    0\n",
      "2    0\n",
      "3    0\n",
      "Name: y, dtype: int64\n",
      "updated weights: \n",
      "[0.50000753 0.49994558 0.50011977]\n",
      "for epoch: 9\n",
      "predicted value: \n",
      "[0 0 0 1]\n",
      "error: \n",
      "0    0\n",
      "1    0\n",
      "2    0\n",
      "3    0\n",
      "Name: y, dtype: int64\n",
      "updated weights: \n",
      "[0.50000753 0.49994558 0.50011977]\n"
     ]
    }
   ],
   "source": [
    "model.fit(X,y)"
   ]
  },
  {
   "cell_type": "code",
   "execution_count": 60,
   "id": "d708c00d-6a16-4c9f-8d14-2cc9b27db106",
   "metadata": {
    "tags": []
   },
   "outputs": [],
   "source": [
    "data={'x1':[0,0,1,1],'x2':[0,1,0,1],'y':[0,1,1,1]}"
   ]
  },
  {
   "cell_type": "code",
   "execution_count": 61,
   "id": "eefc0b97-8725-4a48-8c08-5a531ad36b79",
   "metadata": {
    "tags": []
   },
   "outputs": [],
   "source": [
    "OR=pd.DataFrame(data)"
   ]
  },
  {
   "cell_type": "code",
   "execution_count": 62,
   "id": "27bdda5a-afcb-437f-92e8-58a5981e5c8a",
   "metadata": {
    "tags": []
   },
   "outputs": [
    {
     "data": {
      "text/html": [
       "<div>\n",
       "<style scoped>\n",
       "    .dataframe tbody tr th:only-of-type {\n",
       "        vertical-align: middle;\n",
       "    }\n",
       "\n",
       "    .dataframe tbody tr th {\n",
       "        vertical-align: top;\n",
       "    }\n",
       "\n",
       "    .dataframe thead th {\n",
       "        text-align: right;\n",
       "    }\n",
       "</style>\n",
       "<table border=\"1\" class=\"dataframe\">\n",
       "  <thead>\n",
       "    <tr style=\"text-align: right;\">\n",
       "      <th></th>\n",
       "      <th>x1</th>\n",
       "      <th>x2</th>\n",
       "      <th>y</th>\n",
       "    </tr>\n",
       "  </thead>\n",
       "  <tbody>\n",
       "    <tr>\n",
       "      <th>0</th>\n",
       "      <td>0</td>\n",
       "      <td>0</td>\n",
       "      <td>0</td>\n",
       "    </tr>\n",
       "    <tr>\n",
       "      <th>1</th>\n",
       "      <td>0</td>\n",
       "      <td>1</td>\n",
       "      <td>1</td>\n",
       "    </tr>\n",
       "    <tr>\n",
       "      <th>2</th>\n",
       "      <td>1</td>\n",
       "      <td>0</td>\n",
       "      <td>1</td>\n",
       "    </tr>\n",
       "    <tr>\n",
       "      <th>3</th>\n",
       "      <td>1</td>\n",
       "      <td>1</td>\n",
       "      <td>1</td>\n",
       "    </tr>\n",
       "  </tbody>\n",
       "</table>\n",
       "</div>"
      ],
      "text/plain": [
       "   x1  x2  y\n",
       "0   0   0  0\n",
       "1   0   1  1\n",
       "2   1   0  1\n",
       "3   1   1  1"
      ]
     },
     "execution_count": 62,
     "metadata": {},
     "output_type": "execute_result"
    }
   ],
   "source": [
    "OR"
   ]
  },
  {
   "cell_type": "code",
   "execution_count": 64,
   "id": "2a236141-b2dd-4de1-a907-99c52f900cdf",
   "metadata": {
    "tags": []
   },
   "outputs": [],
   "source": [
    "X=OR.iloc[:,:-1]"
   ]
  },
  {
   "cell_type": "code",
   "execution_count": 65,
   "id": "c2f8b478-d436-4378-b2b2-64a6229195cd",
   "metadata": {
    "tags": []
   },
   "outputs": [],
   "source": [
    "y=OR.iloc[:,-1]"
   ]
  },
  {
   "cell_type": "code",
   "execution_count": 66,
   "id": "a680e02b-9fee-45f2-87bc-99e8d67b87e1",
   "metadata": {
    "tags": []
   },
   "outputs": [
    {
     "name": "stdout",
     "output_type": "stream",
     "text": [
      "X_with_bias: \n",
      "[[ 0.  0. -1.]\n",
      " [ 0.  1. -1.]\n",
      " [ 1.  0. -1.]\n",
      " [ 1.  1. -1.]]\n",
      "for epoch: 0\n",
      "predicted value: \n",
      "[0 0 0 1]\n",
      "error: \n",
      "0    0\n",
      "1    1\n",
      "2    1\n",
      "3    0\n",
      "Name: y, dtype: int64\n",
      "updated weights: \n",
      "[ 1.00000753  0.99994558 -0.49988023]\n",
      "for epoch: 1\n",
      "predicted value: \n",
      "[1 1 1 1]\n",
      "error: \n",
      "0   -1\n",
      "1    0\n",
      "2    0\n",
      "3    0\n",
      "Name: y, dtype: int64\n",
      "updated weights: \n",
      "[1.00000753e+00 9.99945585e-01 1.19774134e-04]\n",
      "for epoch: 2\n",
      "predicted value: \n",
      "[0 1 1 1]\n",
      "error: \n",
      "0    0\n",
      "1    0\n",
      "2    0\n",
      "3    0\n",
      "Name: y, dtype: int64\n",
      "updated weights: \n",
      "[1.00000753e+00 9.99945585e-01 1.19774134e-04]\n",
      "for epoch: 3\n",
      "predicted value: \n",
      "[0 1 1 1]\n",
      "error: \n",
      "0    0\n",
      "1    0\n",
      "2    0\n",
      "3    0\n",
      "Name: y, dtype: int64\n",
      "updated weights: \n",
      "[1.00000753e+00 9.99945585e-01 1.19774134e-04]\n",
      "for epoch: 4\n",
      "predicted value: \n",
      "[0 1 1 1]\n",
      "error: \n",
      "0    0\n",
      "1    0\n",
      "2    0\n",
      "3    0\n",
      "Name: y, dtype: int64\n",
      "updated weights: \n",
      "[1.00000753e+00 9.99945585e-01 1.19774134e-04]\n",
      "for epoch: 5\n",
      "predicted value: \n",
      "[0 1 1 1]\n",
      "error: \n",
      "0    0\n",
      "1    0\n",
      "2    0\n",
      "3    0\n",
      "Name: y, dtype: int64\n",
      "updated weights: \n",
      "[1.00000753e+00 9.99945585e-01 1.19774134e-04]\n",
      "for epoch: 6\n",
      "predicted value: \n",
      "[0 1 1 1]\n",
      "error: \n",
      "0    0\n",
      "1    0\n",
      "2    0\n",
      "3    0\n",
      "Name: y, dtype: int64\n",
      "updated weights: \n",
      "[1.00000753e+00 9.99945585e-01 1.19774134e-04]\n",
      "for epoch: 7\n",
      "predicted value: \n",
      "[0 1 1 1]\n",
      "error: \n",
      "0    0\n",
      "1    0\n",
      "2    0\n",
      "3    0\n",
      "Name: y, dtype: int64\n",
      "updated weights: \n",
      "[1.00000753e+00 9.99945585e-01 1.19774134e-04]\n",
      "for epoch: 8\n",
      "predicted value: \n",
      "[0 1 1 1]\n",
      "error: \n",
      "0    0\n",
      "1    0\n",
      "2    0\n",
      "3    0\n",
      "Name: y, dtype: int64\n",
      "updated weights: \n",
      "[1.00000753e+00 9.99945585e-01 1.19774134e-04]\n",
      "for epoch: 9\n",
      "predicted value: \n",
      "[0 1 1 1]\n",
      "error: \n",
      "0    0\n",
      "1    0\n",
      "2    0\n",
      "3    0\n",
      "Name: y, dtype: int64\n",
      "updated weights: \n",
      "[1.00000753e+00 9.99945585e-01 1.19774134e-04]\n"
     ]
    }
   ],
   "source": [
    "model.fit(X,y)"
   ]
  },
  {
   "cell_type": "code",
   "execution_count": 67,
   "id": "44538040-1000-4762-b6cc-35cc80ca3eb2",
   "metadata": {
    "tags": []
   },
   "outputs": [
    {
     "data": {
      "text/plain": [
       "array([1.00000753e+00, 9.99945585e-01, 1.19774134e-04])"
      ]
     },
     "execution_count": 67,
     "metadata": {},
     "output_type": "execute_result"
    }
   ],
   "source": [
    "model.weights"
   ]
  },
  {
   "cell_type": "code",
   "execution_count": 68,
   "id": "cdc31d19-79ae-4b11-831c-e7a400cec2bd",
   "metadata": {
    "tags": []
   },
   "outputs": [
    {
     "data": {
      "text/plain": [
       "array([0, 1, 1, 1])"
      ]
     },
     "execution_count": 68,
     "metadata": {},
     "output_type": "execute_result"
    }
   ],
   "source": [
    "model.predict(X)"
   ]
  },
  {
   "cell_type": "code",
   "execution_count": null,
   "id": "d8a1b228-c427-46d3-8507-4d5e5111e5fc",
   "metadata": {},
   "outputs": [],
   "source": [
    "    "
   ]
  }
 ],
 "metadata": {
  "kernelspec": {
   "display_name": "Python 3 (ipykernel)",
   "language": "python",
   "name": "python3"
  },
  "language_info": {
   "codemirror_mode": {
    "name": "ipython",
    "version": 3
   },
   "file_extension": ".py",
   "mimetype": "text/x-python",
   "name": "python",
   "nbconvert_exporter": "python",
   "pygments_lexer": "ipython3",
   "version": "3.11.5"
  }
 },
 "nbformat": 4,
 "nbformat_minor": 5
}
