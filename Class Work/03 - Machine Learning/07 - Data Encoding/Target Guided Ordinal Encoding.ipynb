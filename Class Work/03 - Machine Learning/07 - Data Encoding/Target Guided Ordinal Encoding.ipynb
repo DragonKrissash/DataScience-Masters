{
 "cells": [
  {
   "cell_type": "code",
   "execution_count": 1,
   "id": "0e58a9f7-08e5-4f32-948f-717bb643bcc6",
   "metadata": {
    "tags": []
   },
   "outputs": [],
   "source": [
    "import pandas as pd"
   ]
  },
  {
   "cell_type": "code",
   "execution_count": 2,
   "id": "7fd804d8-dfdb-4fb7-a111-81754b0aacbc",
   "metadata": {
    "tags": []
   },
   "outputs": [],
   "source": [
    "df=pd.DataFrame({\n",
    "    'city':['New York','London','Paris','Tokyo','New York','Paris'],\n",
    "    'price':[200,150,300,250,180,320]\n",
    "})"
   ]
  },
  {
   "cell_type": "code",
   "execution_count": 3,
   "id": "6019ff1a-779e-42d9-b355-44a741d76936",
   "metadata": {
    "tags": []
   },
   "outputs": [
    {
     "data": {
      "text/html": [
       "<div>\n",
       "<style scoped>\n",
       "    .dataframe tbody tr th:only-of-type {\n",
       "        vertical-align: middle;\n",
       "    }\n",
       "\n",
       "    .dataframe tbody tr th {\n",
       "        vertical-align: top;\n",
       "    }\n",
       "\n",
       "    .dataframe thead th {\n",
       "        text-align: right;\n",
       "    }\n",
       "</style>\n",
       "<table border=\"1\" class=\"dataframe\">\n",
       "  <thead>\n",
       "    <tr style=\"text-align: right;\">\n",
       "      <th></th>\n",
       "      <th>city</th>\n",
       "      <th>price</th>\n",
       "    </tr>\n",
       "  </thead>\n",
       "  <tbody>\n",
       "    <tr>\n",
       "      <th>0</th>\n",
       "      <td>New York</td>\n",
       "      <td>200</td>\n",
       "    </tr>\n",
       "    <tr>\n",
       "      <th>1</th>\n",
       "      <td>London</td>\n",
       "      <td>150</td>\n",
       "    </tr>\n",
       "    <tr>\n",
       "      <th>2</th>\n",
       "      <td>Paris</td>\n",
       "      <td>300</td>\n",
       "    </tr>\n",
       "    <tr>\n",
       "      <th>3</th>\n",
       "      <td>Tokyo</td>\n",
       "      <td>250</td>\n",
       "    </tr>\n",
       "    <tr>\n",
       "      <th>4</th>\n",
       "      <td>New York</td>\n",
       "      <td>180</td>\n",
       "    </tr>\n",
       "  </tbody>\n",
       "</table>\n",
       "</div>"
      ],
      "text/plain": [
       "       city  price\n",
       "0  New York    200\n",
       "1    London    150\n",
       "2     Paris    300\n",
       "3     Tokyo    250\n",
       "4  New York    180"
      ]
     },
     "execution_count": 3,
     "metadata": {},
     "output_type": "execute_result"
    }
   ],
   "source": [
    "df.head()"
   ]
  },
  {
   "cell_type": "code",
   "execution_count": 4,
   "id": "5b2a4005-4af1-4f0d-96ec-2a45c3513e42",
   "metadata": {
    "tags": []
   },
   "outputs": [],
   "source": [
    "## Calculate the mean price for each city"
   ]
  },
  {
   "cell_type": "code",
   "execution_count": 7,
   "id": "01c50887-b694-47a3-acd8-b27f243c30fc",
   "metadata": {
    "tags": []
   },
   "outputs": [
    {
     "data": {
      "text/plain": [
       "city\n",
       "London      150.0\n",
       "New York    190.0\n",
       "Paris       310.0\n",
       "Tokyo       250.0\n",
       "Name: price, dtype: float64"
      ]
     },
     "execution_count": 7,
     "metadata": {},
     "output_type": "execute_result"
    }
   ],
   "source": [
    "df.groupby('city')['price'].mean()"
   ]
  },
  {
   "cell_type": "code",
   "execution_count": 9,
   "id": "0388621c-1305-4183-8a98-140aaa07439f",
   "metadata": {
    "tags": []
   },
   "outputs": [],
   "source": [
    "mean_price=df.groupby('city')['price'].mean().to_dict()"
   ]
  },
  {
   "cell_type": "code",
   "execution_count": 10,
   "id": "30ecda54-5508-4857-81af-2c6f730af7e9",
   "metadata": {
    "tags": []
   },
   "outputs": [],
   "source": [
    "## replace each city with its mean price"
   ]
  },
  {
   "cell_type": "code",
   "execution_count": 11,
   "id": "64fdf926-a4ab-499f-9b10-936145d7f0cb",
   "metadata": {
    "tags": []
   },
   "outputs": [],
   "source": [
    "df['city_encoded']=df['city'].map(mean_price)"
   ]
  },
  {
   "cell_type": "code",
   "execution_count": 12,
   "id": "a5ee71c5-ff83-4233-8461-d90b8e8c51a5",
   "metadata": {
    "tags": []
   },
   "outputs": [
    {
     "data": {
      "text/html": [
       "<div>\n",
       "<style scoped>\n",
       "    .dataframe tbody tr th:only-of-type {\n",
       "        vertical-align: middle;\n",
       "    }\n",
       "\n",
       "    .dataframe tbody tr th {\n",
       "        vertical-align: top;\n",
       "    }\n",
       "\n",
       "    .dataframe thead th {\n",
       "        text-align: right;\n",
       "    }\n",
       "</style>\n",
       "<table border=\"1\" class=\"dataframe\">\n",
       "  <thead>\n",
       "    <tr style=\"text-align: right;\">\n",
       "      <th></th>\n",
       "      <th>city</th>\n",
       "      <th>price</th>\n",
       "      <th>city_encoded</th>\n",
       "    </tr>\n",
       "  </thead>\n",
       "  <tbody>\n",
       "    <tr>\n",
       "      <th>0</th>\n",
       "      <td>New York</td>\n",
       "      <td>200</td>\n",
       "      <td>190.0</td>\n",
       "    </tr>\n",
       "    <tr>\n",
       "      <th>1</th>\n",
       "      <td>London</td>\n",
       "      <td>150</td>\n",
       "      <td>150.0</td>\n",
       "    </tr>\n",
       "    <tr>\n",
       "      <th>2</th>\n",
       "      <td>Paris</td>\n",
       "      <td>300</td>\n",
       "      <td>310.0</td>\n",
       "    </tr>\n",
       "    <tr>\n",
       "      <th>3</th>\n",
       "      <td>Tokyo</td>\n",
       "      <td>250</td>\n",
       "      <td>250.0</td>\n",
       "    </tr>\n",
       "    <tr>\n",
       "      <th>4</th>\n",
       "      <td>New York</td>\n",
       "      <td>180</td>\n",
       "      <td>190.0</td>\n",
       "    </tr>\n",
       "    <tr>\n",
       "      <th>5</th>\n",
       "      <td>Paris</td>\n",
       "      <td>320</td>\n",
       "      <td>310.0</td>\n",
       "    </tr>\n",
       "  </tbody>\n",
       "</table>\n",
       "</div>"
      ],
      "text/plain": [
       "       city  price  city_encoded\n",
       "0  New York    200         190.0\n",
       "1    London    150         150.0\n",
       "2     Paris    300         310.0\n",
       "3     Tokyo    250         250.0\n",
       "4  New York    180         190.0\n",
       "5     Paris    320         310.0"
      ]
     },
     "execution_count": 12,
     "metadata": {},
     "output_type": "execute_result"
    }
   ],
   "source": [
    "df"
   ]
  },
  {
   "cell_type": "code",
   "execution_count": null,
   "id": "ab5e1b81-4b16-418a-ad40-388038fdd526",
   "metadata": {},
   "outputs": [],
   "source": []
  }
 ],
 "metadata": {
  "kernelspec": {
   "display_name": "Python 3 (ipykernel)",
   "language": "python",
   "name": "python3"
  },
  "language_info": {
   "codemirror_mode": {
    "name": "ipython",
    "version": 3
   },
   "file_extension": ".py",
   "mimetype": "text/x-python",
   "name": "python",
   "nbconvert_exporter": "python",
   "pygments_lexer": "ipython3",
   "version": "3.11.5"
  }
 },
 "nbformat": 4,
 "nbformat_minor": 5
}
