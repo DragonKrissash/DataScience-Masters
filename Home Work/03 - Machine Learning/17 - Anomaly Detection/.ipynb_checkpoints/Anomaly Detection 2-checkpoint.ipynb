{
 "cells": [
  {
   "cell_type": "code",
   "execution_count": null,
   "id": "02e15e68-56ed-429f-bf38-618a9ab3b410",
   "metadata": {},
   "outputs": [],
   "source": [
    "Q1. What is the role of feature selection in anomaly detection?"
   ]
  },
  {
   "cell_type": "code",
   "execution_count": null,
   "id": "f0a56ccd-28fc-42ed-9fb0-2ec002398196",
   "metadata": {},
   "outputs": [],
   "source": [
    "A1. Dimensionality reduction: Many datasets used for anomaly detection can have a large number of \n",
    "    features, which can increase computational complexity and introduce noise or irrelevant information. \n",
    "    Feature selection helps reduce the dimensionality of the data by selecting a subset of the most relevant \n",
    "    features, making the anomaly detection process more efficient and effective.\n",
    "\n",
    "    Noise reduction: Some features in the dataset may contain noise or redundant information, which can \n",
    "    negatively impact the performance of anomaly detection algorithms. Feature selection techniques can \n",
    "    identify and remove these noisy or irrelevant features, improving the signal-to-noise ratio and \n",
    "    increasing the accuracy of anomaly detection.\n",
    "    \n",
    "    Improved interpretability: By selecting a subset of meaningful features, feature selection can \n",
    "    enhance the interpretability of the anomaly detection results. It becomes easier to understand \n",
    "    the characteristics or patterns that distinguish anomalies from normal instances when the analysis \n",
    "    is focused on a smaller set of relevant features.\n",
    "    \n",
    "    Better generalization: Feature selection can help prevent overfitting by removing irrelevant or \n",
    "    redundant features that may capture noise or spurious patterns in the training data. This can improve \n",
    "    the generalization ability of the anomaly detection model, leading to better performance on unseen data.\n",
    "    \n",
    "    Computational efficiency: Reducing the number of features can significantly decrease the computational \n",
    "    requirements of anomaly detection algorithms, especially for distance-based or density-based methods \n",
    "    that involve computing pairwise distances or densities across all features."
   ]
  },
  {
   "cell_type": "code",
   "execution_count": null,
   "id": "55a9e209-4fa1-4513-b013-47c42aa13c32",
   "metadata": {},
   "outputs": [],
   "source": [
    "Q2. What are some common evaluation metrics for anomaly detection algorithms and how are they computed?"
   ]
  },
  {
   "cell_type": "code",
   "execution_count": null,
   "id": "d4fe1c11-a344-45ba-9391-9f503bd447b8",
   "metadata": {},
   "outputs": [],
   "source": [
    "A2. Precision: Precision measures the proportion of true anomalies among the instances identified as \n",
    "    anomalies by the algorithm. \n",
    "    It is calculated as: Precision = TP / (TP + FP) \n",
    "    Where TP (True Positives) is the number of correctly identified anomalies, and FP (False Positives) is \n",
    "    the number of normal instances incorrectly identified as anomalies.\n",
    "    \n",
    "    Recall (Sensitivity or True Positive Rate): Recall measures the proportion of actual anomalies \n",
    "    that are correctly identified by the algorithm. \n",
    "    It is calculated as: Recall = TP / (TP + FN) \n",
    "    Where FN (False Negatives) is the number of anomalies that were not detected by the algorithm.\n",
    "    \n",
    "    F1-Score: The F1-score is the harmonic mean of precision and recall, providing a single metric \n",
    "    that balances both measures. \n",
    "    It is calculated as: F1-Score = 2 * (Precision * Recall) / (Precision + Recall)\n",
    "    \n",
    "    Area Under the Receiver Operating Characteristic (ROC) Curve (AUC-ROC): The ROC curve plots the true \n",
    "    positive rate (recall) against the false positive rate (1 - specificity) at various threshold \n",
    "    settings. The AUC-ROC represents the probability that the algorithm ranks a random positive instance \n",
    "    higher than a random negative instance. A higher AUC-ROC value (closer to 1) indicates better anomaly \n",
    "    detection performance."
   ]
  },
  {
   "cell_type": "code",
   "execution_count": null,
   "id": "120c4355-f734-4c22-9925-5b101c7f4fbb",
   "metadata": {},
   "outputs": [],
   "source": [
    "Q3. What is DBSCAN and how does it work for clustering?"
   ]
  },
  {
   "cell_type": "code",
   "execution_count": null,
   "id": "690e28cd-4970-40fa-b205-9bcd578b894b",
   "metadata": {},
   "outputs": [],
   "source": [
    "A3. DBSCAN (Density-Based Spatial Clustering of Applications with Noise) is a popular density-based \n",
    "    clustering algorithm that is widely used for identifying clusters of arbitrary shape and size, as well as \n",
    "    for detecting noise or outliers in the data.\n",
    "\n",
    "    The key idea behind DBSCAN is that clusters are dense regions in the data space, separated by regions \n",
    "    of lower density. The algorithm works by iteratively expanding clusters from dense seed points, with \n",
    "    two key parameters controlling the clustering process:\n",
    "        \n",
    "    Epsilon (ε or eps): This parameter specifies the maximum radius or distance for considering \n",
    "    neighboring points as part of the same cluster.\n",
    "    \n",
    "    MinPts: This parameter defines the minimum number of points required within the epsilon (ε) \n",
    "    neighborhood of a point to qualify as a dense region or cluster seed.\n",
    "    \n",
    "    The DBSCAN algorithm works as follows:\n",
    "        \n",
    "    For each unvisited point P in the dataset:\n",
    "    Calculate the number of points within the epsilon (ε) neighborhood of P.\n",
    "    If the number of neighbors is greater than or equal to MinPts, mark P as a core point and create a \n",
    "    new cluster.\n",
    "    Otherwise, mark P as noise (for now).\n",
    "    For each core point P:\n",
    "    Expand the cluster by recursively adding all points within the epsilon (ε) neighborhood of P to the \n",
    "    cluster.\n",
    "    If a neighboring point Q is a core point, also add its neighbors to the cluster.\n",
    "    Repeat step 2 until all points in the cluster have been visited.\n",
    "    After processing all points, any remaining unvisited points are labeled as noise or outliers."
   ]
  },
  {
   "cell_type": "code",
   "execution_count": null,
   "id": "38ba18bf-6dc8-44c0-9a70-01d5df257986",
   "metadata": {},
   "outputs": [],
   "source": [
    "Q4. How does the epsilon parameter affect the performance of DBSCAN in detecting anomalies?"
   ]
  },
  {
   "cell_type": "code",
   "execution_count": null,
   "id": "5bda5a7a-4181-4efc-bd07-45e74da48589",
   "metadata": {},
   "outputs": [],
   "source": [
    "A4. Sensitivity to anomalies:\n",
    "    A smaller epsilon value makes DBSCAN more sensitive to detecting anomalies or outliers.\n",
    "    With a small ε, the algorithm requires a higher density of points to form a cluster, making it more \n",
    "    likely for isolated or sparse points to be identified as anomalies or noise.\n",
    "    However, if ε is too small, it may also lead to fragmentation, where normal instances are incorrectly \n",
    "    labeled as anomalies due to overly strict density requirements.\n",
    "    \n",
    "    Anomaly separation:\n",
    "    A larger epsilon value can cause DBSCAN to merge nearby anomalies or outliers into the same cluster, \n",
    "    reducing its ability to separate individual anomalies.\n",
    "    This can be problematic in cases where anomalies are not completely isolated but form small, sparse \n",
    "    clusters that should be identified separately.\n",
    "    \n",
    "    Anomaly masking:\n",
    "    If the epsilon value is too large, it may cause DBSCAN to absorb true anomalies into larger, denser \n",
    "    clusters, effectively masking or failing to detect these anomalies.\n",
    "    This can occur when anomalies are located near the boundaries or margins of dense clusters, and a \n",
    "    larger ε value causes them to be subsumed into the larger cluster."
   ]
  },
  {
   "cell_type": "code",
   "execution_count": null,
   "id": "fda31359-b77e-4d30-8e42-ce6e813044b4",
   "metadata": {},
   "outputs": [],
   "source": [
    "Q5. What are the differences between the core, border, and noise points in DBSCAN, and how do they relate\n",
    "to anomaly detection?"
   ]
  },
  {
   "cell_type": "code",
   "execution_count": null,
   "id": "e56758f4-fc6b-4a79-b704-3041a0a5e4c8",
   "metadata": {},
   "outputs": [],
   "source": [
    "A5. Core Points: Core points are the foundation of clusters in DBSCAN. A point is considered a core point\n",
    "    if it has at least MinPts number of points within its ε-neighborhood (including itself). Core points \n",
    "    serve as the starting points for cluster formation and expansion. In the context of anomaly detection, \n",
    "    core points typically represent normal instances that are part of dense regions or clusters.\n",
    "\n",
    "    Border Points: Border points are non-core points that are within the ε-neighborhood of at least one \n",
    "    core point. These points are not dense enough to be core points themselves, but they are close enough \n",
    "    to core points to be considered part of the cluster. Border points help define the boundaries and \n",
    "    shape of the clusters. In anomaly detection, border points can be considered normal instances, but \n",
    "    they may exhibit slightly different characteristics than the core points due to their location on the \n",
    "    cluster boundaries.\n",
    "    \n",
    "    Noise Points (Anomalies): Noise points, also known as anomalies or outliers, are points that are \n",
    "    neither core points nor border points. They are isolated points that do not have enough neighboring \n",
    "    points within their ε-neighborhood to be part of any cluster. These points are considered anomalies \n",
    "    by DBSCAN because they do not belong to any dense region or cluster. In anomaly detection, \n",
    "    noise points are typically the points of interest, as they represent instances that deviate \n",
    "    significantly from the normal patterns or clusters in the data."
   ]
  },
  {
   "cell_type": "code",
   "execution_count": null,
   "id": "6c3d32a8-70c8-4969-ba0b-e20a7c8a8ac7",
   "metadata": {},
   "outputs": [],
   "source": [
    "Q6. How does DBSCAN detect anomalies and what are the key parameters involved in the process?"
   ]
  },
  {
   "cell_type": "code",
   "execution_count": null,
   "id": "02af68e5-c1f9-4529-ac16-e3dc33f8ac02",
   "metadata": {},
   "outputs": [],
   "source": [
    "A6. Same as answer 3"
   ]
  },
  {
   "cell_type": "code",
   "execution_count": null,
   "id": "1c9bb879-ad4c-4c9b-9cbf-c9cc7701b78e",
   "metadata": {},
   "outputs": [],
   "source": [
    "Q7. What is the make_circles package in scikit-learn used for?"
   ]
  },
  {
   "cell_type": "code",
   "execution_count": null,
   "id": "e7ed4079-2dae-4250-98ef-587b151ecc84",
   "metadata": {},
   "outputs": [],
   "source": [
    "A7. The make_circles function is part of the datasets module in scikit-learn, which is a collection of \n",
    "    toy datasets and sample generators. The make_circles function generates a circular data distribution \n",
    "    with inner and outer circles.\n",
    "\n",
    "    Specifically, make_circles creates a dataset that consists of two interleaved circles, each with a \n",
    "    different label or class. The data points are drawn from two Gaussian distributions, one for each \n",
    "    circle, with different means and standard deviations."
   ]
  },
  {
   "cell_type": "code",
   "execution_count": null,
   "id": "d30b2c8f-be37-4f08-be75-bd3fdac61259",
   "metadata": {},
   "outputs": [],
   "source": [
    "Q8. What are local outliers and global outliers, and how do they differ from each other?"
   ]
  },
  {
   "cell_type": "code",
   "execution_count": null,
   "id": "f510a6c6-2c45-4df8-9323-6d2d9f224f1f",
   "metadata": {},
   "outputs": [],
   "source": [
    "A8. Local Outliers:\n",
    "    Local outliers are data points that are considered unusual or anomalous within the vicinity of their \n",
    "    neighboring points.\n",
    "    These outliers might not be unusual when considering the entire dataset but are abnormal within a \n",
    "    local neighborhood.\n",
    "    Local outliers are identified by examining the density or distance distribution of neighboring points.\n",
    "    An example of a local outlier could be a house that is significantly smaller than its neighboring \n",
    "    houses in a particular neighborhood.\n",
    "\n",
    "    Global Outliers:\n",
    "\n",
    "    Global outliers, on the other hand, are data points that are unusual or anomalous when compared to \n",
    "    the entire dataset.\n",
    "    These outliers stand out irrespective of the local context or neighborhood.\n",
    "    Global outliers are identified by considering the overall distribution and characteristics of the \n",
    "    entire dataset.\n",
    "    An example of a global outlier could be an extremely high temperature recorded in a region that is \n",
    "    unexpected compared to historical data or neighboring regions."
   ]
  },
  {
   "cell_type": "code",
   "execution_count": null,
   "id": "81576c03-1b54-46e6-a79c-49e8e1f1a9f4",
   "metadata": {},
   "outputs": [],
   "source": [
    "Q9. How can local outliers be detected using the Local Outlier Factor (LOF) algorithm?"
   ]
  },
  {
   "cell_type": "code",
   "execution_count": null,
   "id": "0c8b16f8-66d9-40a7-8c5d-c864749bde23",
   "metadata": {},
   "outputs": [],
   "source": [
    "A9. The Local Outlier Factor (LOF) algorithm is a popular method for detecting local outliers in a \n",
    "    dataset. It measures the degree of abnormality of a data point with respect to its local neighborhood, \n",
    "    rather than considering the entire dataset. \n",
    "    \n",
    "    Identify Local Outliers: Data points with an LOF significantly greater than 1 are considered local \n",
    "    outliers. The higher the LOF, the more likely the point is an outlier relative to its local neighborhood."
   ]
  },
  {
   "cell_type": "code",
   "execution_count": null,
   "id": "5a5117fe-dc03-40af-9f3a-d694209ba716",
   "metadata": {},
   "outputs": [],
   "source": [
    "Q10. How can global outliers be detected using the Isolation Forest algorithm?"
   ]
  },
  {
   "cell_type": "code",
   "execution_count": null,
   "id": "b5e070e1-2394-4494-9462-84d9bbeb3f55",
   "metadata": {},
   "outputs": [],
   "source": [
    "A10. "
   ]
  }
 ],
 "metadata": {
  "kernelspec": {
   "display_name": "Python 3 (ipykernel)",
   "language": "python",
   "name": "python3"
  },
  "language_info": {
   "codemirror_mode": {
    "name": "ipython",
    "version": 3
   },
   "file_extension": ".py",
   "mimetype": "text/x-python",
   "name": "python",
   "nbconvert_exporter": "python",
   "pygments_lexer": "ipython3",
   "version": "3.11.5"
  }
 },
 "nbformat": 4,
 "nbformat_minor": 5
}
